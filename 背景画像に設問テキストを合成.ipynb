{
  "nbformat": 4,
  "nbformat_minor": 0,
  "metadata": {
    "colab": {
      "name": "背景画像に設問テキストを合成",
      "provenance": [],
      "collapsed_sections": [],
      "toc_visible": true,
      "authorship_tag": "ABX9TyPPEenrRmlkhpC4Y56zA5cJ",
      "include_colab_link": true
    },
    "kernelspec": {
      "name": "python3",
      "display_name": "Python 3"
    }
  },
  "cells": [
    {
      "cell_type": "markdown",
      "metadata": {
        "id": "view-in-github",
        "colab_type": "text"
      },
      "source": [
        "<a href=\"https://colab.research.google.com/github/stsushimaHTB/test/blob/master/%E8%83%8C%E6%99%AF%E7%94%BB%E5%83%8F%E3%81%AB%E8%A8%AD%E5%95%8F%E3%83%86%E3%82%AD%E3%82%B9%E3%83%88%E3%82%92%E5%90%88%E6%88%90.ipynb\" target=\"_parent\"><img src=\"https://colab.research.google.com/assets/colab-badge.svg\" alt=\"Open In Colab\"/></a>"
      ]
    },
    {
      "cell_type": "markdown",
      "metadata": {
        "id": "AOtCYWG3rkqs",
        "colab_type": "text"
      },
      "source": [
        "## **背景画像に設問テキストを合成する**\n",
        "\n",
        "1.   GoogleDriveへ接続するための認証処理を実行\n",
        "2.   スプレッドシートへ接続するための認証処理を実行\n",
        "\n"
      ]
    },
    {
      "cell_type": "code",
      "metadata": {
        "id": "_6ChHa9rzFf1",
        "colab_type": "code",
        "colab": {
          "base_uri": "https://localhost:8080/",
          "height": 34
        },
        "outputId": "8bc763c5-ec40-4946-93e0-924c81831c56"
      },
      "source": [
        "from google.colab import drive\n",
        "drive.mount(\"/content/gdrive\")\n",
        "\n",
        "!cp -a \"gdrive/My Drive/Colab Notebooks/作画/font\" \"/usr/share/fonts/\""
      ],
      "execution_count": 1,
      "outputs": [
        {
          "output_type": "stream",
          "text": [
            "Drive already mounted at /content/gdrive; to attempt to forcibly remount, call drive.mount(\"/content/gdrive\", force_remount=True).\n"
          ],
          "name": "stdout"
        }
      ]
    },
    {
      "cell_type": "code",
      "metadata": {
        "id": "OffmrIeHor-9",
        "colab_type": "code",
        "colab": {
          "base_uri": "https://localhost:8080/",
          "height": 34
        },
        "outputId": "25bcd80f-d3a5-450b-e45e-ef80254127e9"
      },
      "source": [
        "from google.colab import auth\n",
        "from oauth2client.client import GoogleCredentials\n",
        "import gspread\n",
        "\n",
        "# 認証処理\n",
        "auth.authenticate_user()\n",
        "gc = gspread.authorize(GoogleCredentials.get_application_default())\n",
        "\n",
        "# スプレッドシートキーを指定してワークブックを選択\n",
        "workbook = gc.open_by_key('13c9yuIBeClJFmnMd5DLEPSN0i7UGzXZkjBsozn2iCPI')\n",
        "\n",
        "# ワークシート名を直接指定\n",
        "worksheet = workbook.worksheet('結果')\n",
        "\n",
        "# 行番号と列番号を指定してセルの値を取得する（左：行番号、右：列番号）\n",
        "question = worksheet.cell(1, 2).value\n",
        "\n",
        "print(question)"
      ],
      "execution_count": 2,
      "outputs": [
        {
          "output_type": "stream",
          "text": [
            "これはきっと存在する！\n"
          ],
          "name": "stdout"
        }
      ]
    },
    {
      "cell_type": "code",
      "metadata": {
        "id": "kYOWQ8k6zqxi",
        "colab_type": "code",
        "colab": {}
      },
      "source": [
        "def pillow_char_offset(x_pos: int, y_pos: int, x_end_pos: int, y_end_pos: int, char: str, init_font_size: int, save_pass: str):\n",
        "    '''\n",
        "    :param x_pos 文字を描画したい場所の[X]軸始点\n",
        "    :param y_pos 文字を描画したい場所の[Y]軸始点\n",
        "    :param x_end_pos 文字を描画したい場所の[X]軸終点\n",
        "    :param y_end_pos 文字を描画したい場所の[Y]軸終点\n",
        "    :param char 描画したい文字\n",
        "    :param init_font_size フォントの初期値(最大サイズ)\n",
        "    :param fontfile_name フォントファイル(otfやttf)のパス\n",
        "    '''\n",
        "    # ベースとなる画像の下地を作成する。複製した画像などをベースにする場合は Image.open で開く\n",
        "    img = Image.new('L', (x_end_pos, y_end_pos), 'white')\n",
        "    draw = ImageDraw.Draw(img)\n",
        "\n",
        "    img.save('/content/gdrive/My Drive/Colab Notebooks/作画/hogehoge.jpg')\n",
        "\n",
        "    length = x_end_pos - x_pos\n",
        "    height = y_end_pos - y_pos\n",
        "    out_text_size = (length + 1, height + 1)\n",
        "    font_size_offset = 0\n",
        "    font = None\n",
        "    fontfile_name = \"/usr/share/fonts/font/MEIRYOB.TTC\" #ここでフォント指定\n",
        "\n",
        "    # フォントの描画サイズが描画領域のサイズを下回るまでwhile\n",
        "    while length < out_text_size[0] or height < out_text_size[1]:\n",
        "        font = ImageFont.truetype(fontfile_name, init_font_size - font_size_offset)\n",
        "        # draw.textsizeで描画時のサイズを取得\n",
        "        out_text_size = draw.textsize(char, font=font)\n",
        "        font_size_offset += 1\n",
        "\n",
        "    draw.text((x_pos, y_pos), char, fill='#000', font=font)\n",
        "\n",
        "    #img.save('/content/gdrive/My Drive/Colab Notebooks/作画/hogehoge_def.jpg')\n",
        "    img.save(save_pass)\n"
      ],
      "execution_count": 3,
      "outputs": []
    },
    {
      "cell_type": "code",
      "metadata": {
        "colab_type": "code",
        "id": "_xvcpW5UnLuV",
        "colab": {}
      },
      "source": [
        "from PIL import Image, ImageDraw, ImageFont\n",
        "\n",
        "pillow_char_offset(0, 0, 1055, 150, question, 130, '/content/gdrive/My Drive/Colab Notebooks/作画/todays_Q.jpg')\n",
        "\n",
        "im_b = Image.open('/content/gdrive/My Drive/Colab Notebooks/作画/背景画像_途中経過_サイズ大_サイズ変更.jpg')\n",
        "im_t = Image.open('/content/gdrive/My Drive/Colab Notebooks/作画/todays_Q.jpg')\n",
        "\n",
        "back_im = im_b.copy()\n",
        "back_im.paste(im_t, (750, 280))\n",
        "\n",
        "back_im.save('/content/gdrive/My Drive/Colab Notebooks/作画/合成_背景画像.jpg', quality=95)"
      ],
      "execution_count": 4,
      "outputs": []
    },
    {
      "cell_type": "code",
      "metadata": {
        "id": "dXdyV8x6p1JU",
        "colab_type": "code",
        "colab": {}
      },
      "source": [
        ""
      ],
      "execution_count": 4,
      "outputs": []
    }
  ]
}