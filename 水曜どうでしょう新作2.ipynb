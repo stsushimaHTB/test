{
  "nbformat": 4,
  "nbformat_minor": 0,
  "metadata": {
    "colab": {
      "name": "水曜どうでしょう新作2.ipynb",
      "provenance": [],
      "collapsed_sections": [],
      "mount_file_id": "1CDutny9otfK8Gc0kYbb0ekGU3k-76Vs5",
      "authorship_tag": "ABX9TyMyfCPv67FzPsJtiRWlojfx",
      "include_colab_link": true
    },
    "kernelspec": {
      "name": "python3",
      "display_name": "Python 3"
    },
    "widgets": {
      "application/vnd.jupyter.widget-state+json": {
        "d628d2ae9b844b7e82e207159a13837f": {
          "model_module": "@jupyter-widgets/controls",
          "model_name": "HBoxModel",
          "state": {
            "_view_name": "HBoxView",
            "_dom_classes": [],
            "_model_name": "HBoxModel",
            "_view_module": "@jupyter-widgets/controls",
            "_model_module_version": "1.5.0",
            "_view_count": null,
            "_view_module_version": "1.5.0",
            "box_style": "",
            "layout": "IPY_MODEL_267a07a8a2b345109c4fdfbf91f907e6",
            "_model_module": "@jupyter-widgets/controls",
            "children": [
              "IPY_MODEL_f94a936e08f0488b902db55a01bf45d6",
              "IPY_MODEL_4201e0cd40694293845fc708b2386d25"
            ]
          }
        },
        "267a07a8a2b345109c4fdfbf91f907e6": {
          "model_module": "@jupyter-widgets/base",
          "model_name": "LayoutModel",
          "state": {
            "_view_name": "LayoutView",
            "grid_template_rows": null,
            "right": null,
            "justify_content": null,
            "_view_module": "@jupyter-widgets/base",
            "overflow": null,
            "_model_module_version": "1.2.0",
            "_view_count": null,
            "flex_flow": null,
            "width": null,
            "min_width": null,
            "border": null,
            "align_items": null,
            "bottom": null,
            "_model_module": "@jupyter-widgets/base",
            "top": null,
            "grid_column": null,
            "overflow_y": null,
            "overflow_x": null,
            "grid_auto_flow": null,
            "grid_area": null,
            "grid_template_columns": null,
            "flex": null,
            "_model_name": "LayoutModel",
            "justify_items": null,
            "grid_row": null,
            "max_height": null,
            "align_content": null,
            "visibility": null,
            "align_self": null,
            "height": null,
            "min_height": null,
            "padding": null,
            "grid_auto_rows": null,
            "grid_gap": null,
            "max_width": null,
            "order": null,
            "_view_module_version": "1.2.0",
            "grid_template_areas": null,
            "object_position": null,
            "object_fit": null,
            "grid_auto_columns": null,
            "margin": null,
            "display": null,
            "left": null
          }
        },
        "f94a936e08f0488b902db55a01bf45d6": {
          "model_module": "@jupyter-widgets/controls",
          "model_name": "FloatProgressModel",
          "state": {
            "_view_name": "ProgressView",
            "style": "IPY_MODEL_ddc2b3e453f74de1b7925e7b96765863",
            "_dom_classes": [],
            "description": "main: 100%",
            "_model_name": "FloatProgressModel",
            "bar_style": "success",
            "max": 33746,
            "_view_module": "@jupyter-widgets/controls",
            "_model_module_version": "1.5.0",
            "value": 33746,
            "_view_count": null,
            "_view_module_version": "1.5.0",
            "orientation": "horizontal",
            "min": 0,
            "description_tooltip": null,
            "_model_module": "@jupyter-widgets/controls",
            "layout": "IPY_MODEL_ae8feac50d684d05a3beb6dd0cb8eee2"
          }
        },
        "4201e0cd40694293845fc708b2386d25": {
          "model_module": "@jupyter-widgets/controls",
          "model_name": "HTMLModel",
          "state": {
            "_view_name": "HTMLView",
            "style": "IPY_MODEL_8229dfc2c3f742d0b44e14f7223fc891",
            "_dom_classes": [],
            "description": "",
            "_model_name": "HTMLModel",
            "placeholder": "​",
            "_view_module": "@jupyter-widgets/controls",
            "_model_module_version": "1.5.0",
            "value": " 33746/33746 [06:51&lt;00:00, 82.06it/s]",
            "_view_count": null,
            "_view_module_version": "1.5.0",
            "description_tooltip": null,
            "_model_module": "@jupyter-widgets/controls",
            "layout": "IPY_MODEL_b65b2fb6a8ef445e800940418aa21dcb"
          }
        },
        "ddc2b3e453f74de1b7925e7b96765863": {
          "model_module": "@jupyter-widgets/controls",
          "model_name": "ProgressStyleModel",
          "state": {
            "_view_name": "StyleView",
            "_model_name": "ProgressStyleModel",
            "description_width": "initial",
            "_view_module": "@jupyter-widgets/base",
            "_model_module_version": "1.5.0",
            "_view_count": null,
            "_view_module_version": "1.2.0",
            "bar_color": null,
            "_model_module": "@jupyter-widgets/controls"
          }
        },
        "ae8feac50d684d05a3beb6dd0cb8eee2": {
          "model_module": "@jupyter-widgets/base",
          "model_name": "LayoutModel",
          "state": {
            "_view_name": "LayoutView",
            "grid_template_rows": null,
            "right": null,
            "justify_content": null,
            "_view_module": "@jupyter-widgets/base",
            "overflow": null,
            "_model_module_version": "1.2.0",
            "_view_count": null,
            "flex_flow": null,
            "width": null,
            "min_width": null,
            "border": null,
            "align_items": null,
            "bottom": null,
            "_model_module": "@jupyter-widgets/base",
            "top": null,
            "grid_column": null,
            "overflow_y": null,
            "overflow_x": null,
            "grid_auto_flow": null,
            "grid_area": null,
            "grid_template_columns": null,
            "flex": null,
            "_model_name": "LayoutModel",
            "justify_items": null,
            "grid_row": null,
            "max_height": null,
            "align_content": null,
            "visibility": null,
            "align_self": null,
            "height": null,
            "min_height": null,
            "padding": null,
            "grid_auto_rows": null,
            "grid_gap": null,
            "max_width": null,
            "order": null,
            "_view_module_version": "1.2.0",
            "grid_template_areas": null,
            "object_position": null,
            "object_fit": null,
            "grid_auto_columns": null,
            "margin": null,
            "display": null,
            "left": null
          }
        },
        "8229dfc2c3f742d0b44e14f7223fc891": {
          "model_module": "@jupyter-widgets/controls",
          "model_name": "DescriptionStyleModel",
          "state": {
            "_view_name": "StyleView",
            "_model_name": "DescriptionStyleModel",
            "description_width": "",
            "_view_module": "@jupyter-widgets/base",
            "_model_module_version": "1.5.0",
            "_view_count": null,
            "_view_module_version": "1.2.0",
            "_model_module": "@jupyter-widgets/controls"
          }
        },
        "b65b2fb6a8ef445e800940418aa21dcb": {
          "model_module": "@jupyter-widgets/base",
          "model_name": "LayoutModel",
          "state": {
            "_view_name": "LayoutView",
            "grid_template_rows": null,
            "right": null,
            "justify_content": null,
            "_view_module": "@jupyter-widgets/base",
            "overflow": null,
            "_model_module_version": "1.2.0",
            "_view_count": null,
            "flex_flow": null,
            "width": null,
            "min_width": null,
            "border": null,
            "align_items": null,
            "bottom": null,
            "_model_module": "@jupyter-widgets/base",
            "top": null,
            "grid_column": null,
            "overflow_y": null,
            "overflow_x": null,
            "grid_auto_flow": null,
            "grid_area": null,
            "grid_template_columns": null,
            "flex": null,
            "_model_name": "LayoutModel",
            "justify_items": null,
            "grid_row": null,
            "max_height": null,
            "align_content": null,
            "visibility": null,
            "align_self": null,
            "height": null,
            "min_height": null,
            "padding": null,
            "grid_auto_rows": null,
            "grid_gap": null,
            "max_width": null,
            "order": null,
            "_view_module_version": "1.2.0",
            "grid_template_areas": null,
            "object_position": null,
            "object_fit": null,
            "grid_auto_columns": null,
            "margin": null,
            "display": null,
            "left": null
          }
        }
      }
    }
  },
  "cells": [
    {
      "cell_type": "markdown",
      "metadata": {
        "id": "view-in-github",
        "colab_type": "text"
      },
      "source": [
        "<a href=\"https://colab.research.google.com/github/stsushimaHTB/test/blob/master/%E6%B0%B4%E6%9B%9C%E3%81%A9%E3%81%86%E3%81%A7%E3%81%97%E3%82%87%E3%81%86%E6%96%B0%E4%BD%9C2.ipynb\" target=\"_parent\"><img src=\"https://colab.research.google.com/assets/colab-badge.svg\" alt=\"Open In Colab\"/></a>"
      ]
    },
    {
      "cell_type": "code",
      "metadata": {
        "id": "Vo-bNVpHcacj",
        "colab_type": "code",
        "colab": {}
      },
      "source": [
        "%matplotlib inline\n",
        "from pandas import Series, DataFrame\n",
        "import pandas as pd\n",
        "import numpy as np\n",
        "import matplotlib.pyplot as plt\n",
        "from datetime import datetime as dt\n",
        "import csv\n",
        "from tqdm import tqdm_notebook as tqdm"
      ],
      "execution_count": 0,
      "outputs": []
    },
    {
      "cell_type": "code",
      "metadata": {
        "id": "fDZF5zw_cgC3",
        "colab_type": "code",
        "outputId": "cec76eda-9771-4039-bf1a-bf2bc01b8dc1",
        "colab": {
          "base_uri": "https://localhost:8080/",
          "height": 52
        }
      },
      "source": [
        "#df_Wed4 = pd.read_csv( \"/content/drive/My Drive/Colab Notebooks/Wed4_view_log.txt\")\n",
        "#df_Wed5 = pd.read_csv( \"/content/drive/My Drive/Colab Notebooks/Wed5_view_log.txt\")\n",
        "#df_Wed6 = pd.read_csv( \"/content/drive/My Drive/Colab Notebooks/Wed6_view_log.txt\")\n",
        "#df_Wed7 = pd.read_csv( \"/content/drive/My Drive/Colab Notebooks/Wed7_view_log.txt\")\n",
        "df_Wed8 = pd.read_csv( \"/content/drive/My Drive/Colab Notebooks/Wed8_view_log.txt\")\n",
        "#df_Wed9 = pd.read_csv( \"/content/drive/My Drive/Colab Notebooks/Wed9_view_log.txt\")\n",
        "#df_Wed10 = pd.read_csv( \"/content/drive/My Drive/Colab Notebooks/Wed10_view_log.txt\")\n",
        "#df_Wed11 = pd.read_csv( \"/content/drive/My Drive/Colab Notebooks/Wed11_view_log.txt\")"
      ],
      "execution_count": 0,
      "outputs": [
        {
          "output_type": "stream",
          "text": [
            "/usr/local/lib/python3.6/dist-packages/IPython/core/interactiveshell.py:2718: DtypeWarning: Columns (4) have mixed types.Specify dtype option on import or set low_memory=False.\n",
            "  interactivity=interactivity, compiler=compiler, result=result)\n"
          ],
          "name": "stderr"
        }
      ]
    },
    {
      "cell_type": "code",
      "metadata": {
        "id": "cIx3Yjsscuce",
        "colab_type": "code",
        "outputId": "05ee6574-6e60-458a-adfc-5cfd9228a64f",
        "colab": {
          "base_uri": "https://localhost:8080/",
          "height": 295
        }
      },
      "source": [
        "df_Wed6.head()"
      ],
      "execution_count": 0,
      "outputs": [
        {
          "output_type": "execute_result",
          "data": {
            "text/html": [
              "<div>\n",
              "<style scoped>\n",
              "    .dataframe tbody tr th:only-of-type {\n",
              "        vertical-align: middle;\n",
              "    }\n",
              "\n",
              "    .dataframe tbody tr th {\n",
              "        vertical-align: top;\n",
              "    }\n",
              "\n",
              "    .dataframe thead th {\n",
              "        text-align: right;\n",
              "    }\n",
              "</style>\n",
              "<table border=\"1\" class=\"dataframe\">\n",
              "  <thead>\n",
              "    <tr style=\"text-align: right;\">\n",
              "      <th></th>\n",
              "      <th>Unnamed: 0</th>\n",
              "      <th>unique_id</th>\n",
              "      <th>time_in_jst</th>\n",
              "      <th>time_out_jst</th>\n",
              "      <th>post_code</th>\n",
              "      <th>status_data</th>\n",
              "      <th>ip_address</th>\n",
              "      <th>browser</th>\n",
              "      <th>time_send_jst</th>\n",
              "      <th>manufacture_id</th>\n",
              "      <th>original_data</th>\n",
              "    </tr>\n",
              "  </thead>\n",
              "  <tbody>\n",
              "    <tr>\n",
              "      <th>0</th>\n",
              "      <td>0</td>\n",
              "      <td>950331c8-0b02-4f05-a40d-9dfaa7897f9d</td>\n",
              "      <td>2020-01-22 23:14:27</td>\n",
              "      <td>2020-01-22 23:43:26</td>\n",
              "      <td>0600807</td>\n",
              "      <td>1</td>\n",
              "      <td>60.59.76.129</td>\n",
              "      <td>PANAIBROWSER</td>\n",
              "      <td>2020-01-28 06:58:11</td>\n",
              "      <td>19</td>\n",
              "      <td>|2020-01-22T23:14:27|2020-01-22T23:43:26|50|0|...</td>\n",
              "    </tr>\n",
              "    <tr>\n",
              "      <th>1</th>\n",
              "      <td>1</td>\n",
              "      <td>62bd5c9b-7863-423f-815a-cd352b61bedb</td>\n",
              "      <td>2020-01-22 23:14:31</td>\n",
              "      <td>2020-01-22 23:43:30</td>\n",
              "      <td>0640823</td>\n",
              "      <td>1</td>\n",
              "      <td>60.59.77.7</td>\n",
              "      <td>PANAIBROWSER</td>\n",
              "      <td>2020-01-24 16:54:02</td>\n",
              "      <td>19</td>\n",
              "      <td>|2020-01-22T23:14:31|2020-01-22T23:43:30|50|0|...</td>\n",
              "    </tr>\n",
              "    <tr>\n",
              "      <th>2</th>\n",
              "      <td>2</td>\n",
              "      <td>6af6e4db-5362-4955-8c99-80bd62cf88d4</td>\n",
              "      <td>2020-01-22 23:14:51</td>\n",
              "      <td>2020-01-22 23:43:50</td>\n",
              "      <td>0820036</td>\n",
              "      <td>1</td>\n",
              "      <td>126.147.94.66</td>\n",
              "      <td>NetFrontForDTV</td>\n",
              "      <td>2020-02-05 18:10:44</td>\n",
              "      <td>11</td>\n",
              "      <td>|2020-01-22T23:14:51|2020-01-22T23:43:50|50|27...</td>\n",
              "    </tr>\n",
              "    <tr>\n",
              "      <th>3</th>\n",
              "      <td>3</td>\n",
              "      <td>18969118-9aa7-4329-b618-e56bdfd035de</td>\n",
              "      <td>2020-01-22 23:14:53</td>\n",
              "      <td>2020-01-22 23:43:52</td>\n",
              "      <td>0640806</td>\n",
              "      <td>1</td>\n",
              "      <td>126.241.192.3</td>\n",
              "      <td>NetFrontForDTV</td>\n",
              "      <td>2020-01-23 18:17:50</td>\n",
              "      <td>11</td>\n",
              "      <td>|2020-01-22T23:14:53|2020-01-22T23:43:52|50|27...</td>\n",
              "    </tr>\n",
              "    <tr>\n",
              "      <th>4</th>\n",
              "      <td>4</td>\n",
              "      <td>708dc313-a3ca-40e9-ad4a-721b065590fa</td>\n",
              "      <td>2020-01-22 23:14:54</td>\n",
              "      <td>2020-01-22 23:43:53</td>\n",
              "      <td>0070842</td>\n",
              "      <td>1</td>\n",
              "      <td>125.52.118.79</td>\n",
              "      <td>NetFrontForDTV</td>\n",
              "      <td>2020-01-29 16:54:14</td>\n",
              "      <td>11</td>\n",
              "      <td>|2020-01-22T23:14:54|2020-01-22T23:43:53|50|27...</td>\n",
              "    </tr>\n",
              "  </tbody>\n",
              "</table>\n",
              "</div>"
            ],
            "text/plain": [
              "   Unnamed: 0  ...                                      original_data\n",
              "0           0  ...  |2020-01-22T23:14:27|2020-01-22T23:43:26|50|0|...\n",
              "1           1  ...  |2020-01-22T23:14:31|2020-01-22T23:43:30|50|0|...\n",
              "2           2  ...  |2020-01-22T23:14:51|2020-01-22T23:43:50|50|27...\n",
              "3           3  ...  |2020-01-22T23:14:53|2020-01-22T23:43:52|50|27...\n",
              "4           4  ...  |2020-01-22T23:14:54|2020-01-22T23:43:53|50|27...\n",
              "\n",
              "[5 rows x 11 columns]"
            ]
          },
          "metadata": {
            "tags": []
          },
          "execution_count": 27
        }
      ]
    },
    {
      "cell_type": "code",
      "metadata": {
        "id": "NOYk0-C2cw3J",
        "colab_type": "code",
        "outputId": "37363d44-c83a-47d4-e24b-94c1bcadb79a",
        "colab": {
          "base_uri": "https://localhost:8080/",
          "height": 197
        }
      },
      "source": [
        "df = df_Wed8[['unique_id', 'time_in_jst', 'time_out_jst']]\n",
        "df.head()"
      ],
      "execution_count": 0,
      "outputs": [
        {
          "output_type": "execute_result",
          "data": {
            "text/html": [
              "<div>\n",
              "<style scoped>\n",
              "    .dataframe tbody tr th:only-of-type {\n",
              "        vertical-align: middle;\n",
              "    }\n",
              "\n",
              "    .dataframe tbody tr th {\n",
              "        vertical-align: top;\n",
              "    }\n",
              "\n",
              "    .dataframe thead th {\n",
              "        text-align: right;\n",
              "    }\n",
              "</style>\n",
              "<table border=\"1\" class=\"dataframe\">\n",
              "  <thead>\n",
              "    <tr style=\"text-align: right;\">\n",
              "      <th></th>\n",
              "      <th>unique_id</th>\n",
              "      <th>time_in_jst</th>\n",
              "      <th>time_out_jst</th>\n",
              "    </tr>\n",
              "  </thead>\n",
              "  <tbody>\n",
              "    <tr>\n",
              "      <th>0</th>\n",
              "      <td>c9e5aafe-23bb-4329-8953-5a0189e49bdf</td>\n",
              "      <td>2020-02-19 06:00:04</td>\n",
              "      <td>2020-02-19 06:31:51</td>\n",
              "    </tr>\n",
              "    <tr>\n",
              "      <th>1</th>\n",
              "      <td>0d778493-6fa0-4ad8-99bd-474e639c96ac</td>\n",
              "      <td>2020-02-19 06:00:05</td>\n",
              "      <td>2020-02-19 06:41:20</td>\n",
              "    </tr>\n",
              "    <tr>\n",
              "      <th>2</th>\n",
              "      <td>4841a7f4-163b-40d1-9dd7-35b9d83451ee</td>\n",
              "      <td>2020-02-19 06:00:05</td>\n",
              "      <td>2020-02-19 07:05:16</td>\n",
              "    </tr>\n",
              "    <tr>\n",
              "      <th>3</th>\n",
              "      <td>7dd5d9bf-f755-4fbc-8fd2-0866296b4274</td>\n",
              "      <td>2020-02-19 06:00:05</td>\n",
              "      <td>2020-02-19 07:36:03</td>\n",
              "    </tr>\n",
              "    <tr>\n",
              "      <th>4</th>\n",
              "      <td>6fe34d35-43ba-42ea-8ee0-ed6178d7d49a</td>\n",
              "      <td>2020-02-19 06:00:06</td>\n",
              "      <td>2020-02-19 06:11:19</td>\n",
              "    </tr>\n",
              "  </tbody>\n",
              "</table>\n",
              "</div>"
            ],
            "text/plain": [
              "                              unique_id  ...         time_out_jst\n",
              "0  c9e5aafe-23bb-4329-8953-5a0189e49bdf  ...  2020-02-19 06:31:51\n",
              "1  0d778493-6fa0-4ad8-99bd-474e639c96ac  ...  2020-02-19 06:41:20\n",
              "2  4841a7f4-163b-40d1-9dd7-35b9d83451ee  ...  2020-02-19 07:05:16\n",
              "3  7dd5d9bf-f755-4fbc-8fd2-0866296b4274  ...  2020-02-19 07:36:03\n",
              "4  6fe34d35-43ba-42ea-8ee0-ed6178d7d49a  ...  2020-02-19 06:11:19\n",
              "\n",
              "[5 rows x 3 columns]"
            ]
          },
          "metadata": {
            "tags": []
          },
          "execution_count": 4
        }
      ]
    },
    {
      "cell_type": "code",
      "metadata": {
        "id": "lQw2S5dNgS0x",
        "colab_type": "code",
        "outputId": "3b45a3fd-6d7d-4114-f792-71c7420c805b",
        "colab": {
          "base_uri": "https://localhost:8080/",
          "height": 194
        }
      },
      "source": [
        "df.head()"
      ],
      "execution_count": 0,
      "outputs": [
        {
          "output_type": "execute_result",
          "data": {
            "text/html": [
              "<div>\n",
              "<style scoped>\n",
              "    .dataframe tbody tr th:only-of-type {\n",
              "        vertical-align: middle;\n",
              "    }\n",
              "\n",
              "    .dataframe tbody tr th {\n",
              "        vertical-align: top;\n",
              "    }\n",
              "\n",
              "    .dataframe thead th {\n",
              "        text-align: right;\n",
              "    }\n",
              "</style>\n",
              "<table border=\"1\" class=\"dataframe\">\n",
              "  <thead>\n",
              "    <tr style=\"text-align: right;\">\n",
              "      <th></th>\n",
              "      <th>unique_id</th>\n",
              "      <th>time_in_jst</th>\n",
              "      <th>time_out_jst</th>\n",
              "    </tr>\n",
              "  </thead>\n",
              "  <tbody>\n",
              "    <tr>\n",
              "      <th>0</th>\n",
              "      <td>c9e5aafe-23bb-4329-8953-5a0189e49bdf</td>\n",
              "      <td>2020-02-19 06:00:04</td>\n",
              "      <td>2020-02-19 06:31:51</td>\n",
              "    </tr>\n",
              "    <tr>\n",
              "      <th>1</th>\n",
              "      <td>0d778493-6fa0-4ad8-99bd-474e639c96ac</td>\n",
              "      <td>2020-02-19 06:00:05</td>\n",
              "      <td>2020-02-19 06:41:20</td>\n",
              "    </tr>\n",
              "    <tr>\n",
              "      <th>2</th>\n",
              "      <td>4841a7f4-163b-40d1-9dd7-35b9d83451ee</td>\n",
              "      <td>2020-02-19 06:00:05</td>\n",
              "      <td>2020-02-19 07:05:16</td>\n",
              "    </tr>\n",
              "    <tr>\n",
              "      <th>3</th>\n",
              "      <td>7dd5d9bf-f755-4fbc-8fd2-0866296b4274</td>\n",
              "      <td>2020-02-19 06:00:05</td>\n",
              "      <td>2020-02-19 07:36:03</td>\n",
              "    </tr>\n",
              "    <tr>\n",
              "      <th>4</th>\n",
              "      <td>6fe34d35-43ba-42ea-8ee0-ed6178d7d49a</td>\n",
              "      <td>2020-02-19 06:00:06</td>\n",
              "      <td>2020-02-19 06:11:19</td>\n",
              "    </tr>\n",
              "  </tbody>\n",
              "</table>\n",
              "</div>"
            ],
            "text/plain": [
              "                              unique_id  ...         time_out_jst\n",
              "0  c9e5aafe-23bb-4329-8953-5a0189e49bdf  ...  2020-02-19 06:31:51\n",
              "1  0d778493-6fa0-4ad8-99bd-474e639c96ac  ...  2020-02-19 06:41:20\n",
              "2  4841a7f4-163b-40d1-9dd7-35b9d83451ee  ...  2020-02-19 07:05:16\n",
              "3  7dd5d9bf-f755-4fbc-8fd2-0866296b4274  ...  2020-02-19 07:36:03\n",
              "4  6fe34d35-43ba-42ea-8ee0-ed6178d7d49a  ...  2020-02-19 06:11:19\n",
              "\n",
              "[5 rows x 3 columns]"
            ]
          },
          "metadata": {
            "tags": []
          },
          "execution_count": 16
        }
      ]
    },
    {
      "cell_type": "markdown",
      "metadata": {
        "id": "axsXcSIFdpqc",
        "colab_type": "text"
      },
      "source": [
        "one-hotベクトル化"
      ]
    },
    {
      "cell_type": "code",
      "metadata": {
        "id": "DBp7PkFAdZGw",
        "colab_type": "code",
        "outputId": "a0751995-4cc9-4c74-dd01-760cb3fe4a42",
        "colab": {
          "base_uri": "https://localhost:8080/",
          "height": 34
        }
      },
      "source": [
        "month = 2\n",
        "day = 19\n",
        "Wed = \"Wed8-2\"\n",
        "from_dt = dt(2020, month, day, 23, 15 )\n",
        "to_dt = dt(2020, month, day, 23, 45)\n",
        "#df = df[pd.to_datetime(df.loc[:, 'time_in_jst']) >= from_dt ] #この条件変\n",
        "#df = df[pd.to_datetime(df.loc[:, 'time_out_jst']) <= to_dt ] #この条件変\n",
        "df = df[pd.to_datetime(df.loc[:, 'time_out_jst']) > from_dt ]\n",
        "df = df[pd.to_datetime(df.loc[:, 'time_in_jst']) < to_dt ]\n",
        "\n",
        "#保存するcsv名を作っちゃう\n",
        "csv_name  = \"/content/drive/My Drive/Colab Notebooks/onehot_howisWednesday_\" +  from_dt.strftime('%Y%m%d') +\"_\"+ Wed +'_new.csv'\n",
        "print(csv_name)"
      ],
      "execution_count": 0,
      "outputs": [
        {
          "output_type": "stream",
          "text": [
            "/content/drive/My Drive/Colab Notebooks/onehot_howisWednesday_20200219_Wed8-2_new.csv\n"
          ],
          "name": "stdout"
        }
      ]
    },
    {
      "cell_type": "code",
      "metadata": {
        "id": "DCopxXT6kCp2",
        "colab_type": "code",
        "outputId": "b1c18daf-ddfc-45c5-84bd-0fc60cc28f6f",
        "colab": {
          "base_uri": "https://localhost:8080/",
          "height": 194
        }
      },
      "source": [
        "df.head()"
      ],
      "execution_count": 0,
      "outputs": [
        {
          "output_type": "execute_result",
          "data": {
            "text/html": [
              "<div>\n",
              "<style scoped>\n",
              "    .dataframe tbody tr th:only-of-type {\n",
              "        vertical-align: middle;\n",
              "    }\n",
              "\n",
              "    .dataframe tbody tr th {\n",
              "        vertical-align: top;\n",
              "    }\n",
              "\n",
              "    .dataframe thead th {\n",
              "        text-align: right;\n",
              "    }\n",
              "</style>\n",
              "<table border=\"1\" class=\"dataframe\">\n",
              "  <thead>\n",
              "    <tr style=\"text-align: right;\">\n",
              "      <th></th>\n",
              "      <th>unique_id</th>\n",
              "      <th>time_in_jst</th>\n",
              "      <th>time_out_jst</th>\n",
              "    </tr>\n",
              "  </thead>\n",
              "  <tbody>\n",
              "    <tr>\n",
              "      <th>0</th>\n",
              "      <td>73cb8c23-1b6a-44e3-8643-6df42ba13647</td>\n",
              "      <td>2020-03-03 16:00:08</td>\n",
              "      <td>2020-04-22 11:15:54</td>\n",
              "    </tr>\n",
              "    <tr>\n",
              "      <th>1</th>\n",
              "      <td>75b88b59-5336-42a2-90ca-11cc1b4e4e54</td>\n",
              "      <td>2020-03-05 17:19:32</td>\n",
              "      <td>2020-04-24 10:31:27</td>\n",
              "    </tr>\n",
              "    <tr>\n",
              "      <th>2</th>\n",
              "      <td>4ddcbe95-7b04-437c-8f26-015267864c91</td>\n",
              "      <td>2020-03-11 23:11:47</td>\n",
              "      <td>2020-03-11 23:40:44</td>\n",
              "    </tr>\n",
              "    <tr>\n",
              "      <th>3</th>\n",
              "      <td>ae225a19-864d-493b-903f-23c0f998b80c</td>\n",
              "      <td>2020-03-11 23:13:46</td>\n",
              "      <td>2020-03-11 23:42:45</td>\n",
              "    </tr>\n",
              "    <tr>\n",
              "      <th>4</th>\n",
              "      <td>950331c8-0b02-4f05-a40d-9dfaa7897f9d</td>\n",
              "      <td>2020-03-11 23:13:51</td>\n",
              "      <td>2020-03-11 23:42:49</td>\n",
              "    </tr>\n",
              "  </tbody>\n",
              "</table>\n",
              "</div>"
            ],
            "text/plain": [
              "                              unique_id  ...         time_out_jst\n",
              "0  73cb8c23-1b6a-44e3-8643-6df42ba13647  ...  2020-04-22 11:15:54\n",
              "1  75b88b59-5336-42a2-90ca-11cc1b4e4e54  ...  2020-04-24 10:31:27\n",
              "2  4ddcbe95-7b04-437c-8f26-015267864c91  ...  2020-03-11 23:40:44\n",
              "3  ae225a19-864d-493b-903f-23c0f998b80c  ...  2020-03-11 23:42:45\n",
              "4  950331c8-0b02-4f05-a40d-9dfaa7897f9d  ...  2020-03-11 23:42:49\n",
              "\n",
              "[5 rows x 3 columns]"
            ]
          },
          "metadata": {
            "tags": []
          },
          "execution_count": 95
        }
      ]
    },
    {
      "cell_type": "code",
      "metadata": {
        "id": "G5yYMImtpJ2F",
        "colab_type": "code",
        "outputId": "94845004-b37d-42b2-daf8-717366594699",
        "colab": {
          "base_uri": "https://localhost:8080/",
          "height": 35
        }
      },
      "source": [
        "len(df)"
      ],
      "execution_count": 0,
      "outputs": [
        {
          "output_type": "execute_result",
          "data": {
            "text/plain": [
              "43840"
            ]
          },
          "metadata": {
            "tags": []
          },
          "execution_count": 96
        }
      ]
    },
    {
      "cell_type": "code",
      "metadata": {
        "id": "3CaCk3E1eK4d",
        "colab_type": "code",
        "outputId": "dbb02039-d377-4d70-8948-73f5a4495a50",
        "colab": {
          "base_uri": "https://localhost:8080/",
          "height": 230
        }
      },
      "source": [
        "rng = pd.date_range(from_dt, to_dt, freq='S')  # 毎秒でどうでしょうの時間を指定\n",
        "print(rng)"
      ],
      "execution_count": 0,
      "outputs": [
        {
          "output_type": "stream",
          "text": [
            "DatetimeIndex(['2020-03-11 23:15:00', '2020-03-11 23:15:01',\n",
            "               '2020-03-11 23:15:02', '2020-03-11 23:15:03',\n",
            "               '2020-03-11 23:15:04', '2020-03-11 23:15:05',\n",
            "               '2020-03-11 23:15:06', '2020-03-11 23:15:07',\n",
            "               '2020-03-11 23:15:08', '2020-03-11 23:15:09',\n",
            "               ...\n",
            "               '2020-03-11 23:44:51', '2020-03-11 23:44:52',\n",
            "               '2020-03-11 23:44:53', '2020-03-11 23:44:54',\n",
            "               '2020-03-11 23:44:55', '2020-03-11 23:44:56',\n",
            "               '2020-03-11 23:44:57', '2020-03-11 23:44:58',\n",
            "               '2020-03-11 23:44:59', '2020-03-11 23:45:00'],\n",
            "              dtype='datetime64[ns]', length=1801, freq='S')\n"
          ],
          "name": "stdout"
        }
      ]
    },
    {
      "cell_type": "code",
      "metadata": {
        "id": "ij_CrZcshG1c",
        "colab_type": "code",
        "outputId": "6370a8b7-2697-4737-a23b-8e45000690a4",
        "colab": {
          "base_uri": "https://localhost:8080/",
          "height": 123
        }
      },
      "source": [
        "temp_ser = df['unique_id'].unique()  # クレンジングした視聴データから unique_id のシリーズを生成\n",
        "print(temp_ser)"
      ],
      "execution_count": 0,
      "outputs": [
        {
          "output_type": "stream",
          "text": [
            "['c9e5aafe-23bb-4329-8953-5a0189e49bdf'\n",
            " '0d778493-6fa0-4ad8-99bd-474e639c96ac'\n",
            " '4841a7f4-163b-40d1-9dd7-35b9d83451ee' ...\n",
            " 'aaddb173-197f-46a9-bdd0-1cfc1a9d4397'\n",
            " 'eabba05d-dc7f-4beb-857f-bc0f33df6f0a'\n",
            " 'b6466489-cda5-4370-add1-3db135aaffa7']\n"
          ],
          "name": "stdout"
        }
      ]
    },
    {
      "cell_type": "code",
      "metadata": {
        "id": "Dqr78R0bkmDR",
        "colab_type": "code",
        "outputId": "b75cb512-4a2f-478b-e2f8-b1488718e667",
        "colab": {
          "base_uri": "https://localhost:8080/",
          "height": 34
        }
      },
      "source": [
        "len(temp_ser)"
      ],
      "execution_count": 0,
      "outputs": [
        {
          "output_type": "execute_result",
          "data": {
            "text/plain": [
              "344102"
            ]
          },
          "metadata": {
            "tags": []
          },
          "execution_count": 6
        }
      ]
    },
    {
      "cell_type": "code",
      "metadata": {
        "id": "AJielKUaeah2",
        "colab_type": "code",
        "outputId": "6af40eb9-8dac-40a8-b952-dd06be79f009",
        "colab": {
          "base_uri": "https://localhost:8080/",
          "height": 35
        }
      },
      "source": [
        "temp_ser[0:1]"
      ],
      "execution_count": 0,
      "outputs": [
        {
          "output_type": "execute_result",
          "data": {
            "text/plain": [
              "array(['73cb8c23-1b6a-44e3-8643-6df42ba13647'], dtype=object)"
            ]
          },
          "metadata": {
            "tags": []
          },
          "execution_count": 100
        }
      ]
    },
    {
      "cell_type": "code",
      "metadata": {
        "id": "gy09lu-EedcO",
        "colab_type": "code",
        "outputId": "69150355-3df8-4460-d026-75ade8bf8836",
        "colab": {
          "base_uri": "https://localhost:8080/",
          "height": 120,
          "referenced_widgets": [
            "d628d2ae9b844b7e82e207159a13837f",
            "267a07a8a2b345109c4fdfbf91f907e6",
            "f94a936e08f0488b902db55a01bf45d6",
            "4201e0cd40694293845fc708b2386d25",
            "ddc2b3e453f74de1b7925e7b96765863",
            "ae8feac50d684d05a3beb6dd0cb8eee2",
            "8229dfc2c3f742d0b44e14f7223fc891",
            "b65b2fb6a8ef445e800940418aa21dcb"
          ]
        }
      },
      "source": [
        "#初期化 一個は普通に作る\n",
        "temp_df = pd.DataFrame(0, columns = rng, index = temp_ser[0:1])\n",
        "temp_uid_df = df[df['unique_id'] == temp_ser[0:1][0]]\n",
        "for i in range(len(temp_uid_df)):\n",
        "    temp_df.loc[temp_uid_df.iloc[i,0], temp_uid_df.iloc[i,1]:temp_uid_df.iloc[i,2]] = 1\n",
        "    \n",
        "temp_df.to_csv(csv_name, mode = 'w', header = True)\n",
        "\n",
        "\n",
        "#ここからuidごとに抽出した行列を使って1に埋めていく\n",
        "for j in tqdm(range(1, len(temp_ser)), desc = 'main'):\n",
        "    temp_df = pd.DataFrame(0, columns = rng, index = temp_ser[j: j+1])\n",
        "    temp_uid_df = df[df['unique_id'] == temp_ser[j: j+1][0]]\n",
        "    for k in range(len(temp_uid_df)):\n",
        "        temp_df.loc[temp_uid_df.iloc[k, 0], temp_uid_df.iloc[k,1]:temp_uid_df.iloc[k,2]] = 1\n",
        "    temp_df.to_csv(csv_name, mode = 'a', header = False)"
      ],
      "execution_count": 0,
      "outputs": [
        {
          "output_type": "stream",
          "text": [
            "/usr/local/lib/python3.6/dist-packages/ipykernel_launcher.py:11: TqdmDeprecationWarning: This function will be removed in tqdm==5.0.0\n",
            "Please use `tqdm.notebook.tqdm` instead of `tqdm.tqdm_notebook`\n",
            "  # This is added back by InteractiveShellApp.init_path()\n"
          ],
          "name": "stderr"
        },
        {
          "output_type": "display_data",
          "data": {
            "application/vnd.jupyter.widget-view+json": {
              "model_id": "d628d2ae9b844b7e82e207159a13837f",
              "version_minor": 0,
              "version_major": 2
            },
            "text/plain": [
              "HBox(children=(FloatProgress(value=0.0, description='main', max=33746.0, style=ProgressStyle(description_width…"
            ]
          },
          "metadata": {
            "tags": []
          }
        },
        {
          "output_type": "stream",
          "text": [
            "\n"
          ],
          "name": "stdout"
        }
      ]
    },
    {
      "cell_type": "code",
      "metadata": {
        "id": "FNQK2DkgersL",
        "colab_type": "code",
        "colab": {}
      },
      "source": [
        ""
      ],
      "execution_count": 0,
      "outputs": []
    }
  ]
}