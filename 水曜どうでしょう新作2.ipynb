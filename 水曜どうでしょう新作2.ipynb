{
  "nbformat": 4,
  "nbformat_minor": 0,
  "metadata": {
    "colab": {
      "name": "水曜どうでしょう新作2.ipynb",
      "provenance": [],
      "mount_file_id": "1CDutny9otfK8Gc0kYbb0ekGU3k-76Vs5",
      "authorship_tag": "ABX9TyPU4SdLKqMF36NZTR8a6tT0",
      "include_colab_link": true
    },
    "kernelspec": {
      "name": "python3",
      "display_name": "Python 3"
    },
    "widgets": {
      "application/vnd.jupyter.widget-state+json": {
        "6b5c7dd3e0884ac7a9b391c8a306ae7f": {
          "model_module": "@jupyter-widgets/controls",
          "model_name": "HBoxModel",
          "state": {
            "_view_name": "HBoxView",
            "_dom_classes": [],
            "_model_name": "HBoxModel",
            "_view_module": "@jupyter-widgets/controls",
            "_model_module_version": "1.5.0",
            "_view_count": null,
            "_view_module_version": "1.5.0",
            "box_style": "",
            "layout": "IPY_MODEL_f2158377a32240eea5442f373b87610d",
            "_model_module": "@jupyter-widgets/controls",
            "children": [
              "IPY_MODEL_bfdcf0fac35e4a3bb311047158c27249",
              "IPY_MODEL_51f51c8ea2034d5cb10edaebf4ac8dba"
            ]
          }
        },
        "f2158377a32240eea5442f373b87610d": {
          "model_module": "@jupyter-widgets/base",
          "model_name": "LayoutModel",
          "state": {
            "_view_name": "LayoutView",
            "grid_template_rows": null,
            "right": null,
            "justify_content": null,
            "_view_module": "@jupyter-widgets/base",
            "overflow": null,
            "_model_module_version": "1.2.0",
            "_view_count": null,
            "flex_flow": null,
            "width": null,
            "min_width": null,
            "border": null,
            "align_items": null,
            "bottom": null,
            "_model_module": "@jupyter-widgets/base",
            "top": null,
            "grid_column": null,
            "overflow_y": null,
            "overflow_x": null,
            "grid_auto_flow": null,
            "grid_area": null,
            "grid_template_columns": null,
            "flex": null,
            "_model_name": "LayoutModel",
            "justify_items": null,
            "grid_row": null,
            "max_height": null,
            "align_content": null,
            "visibility": null,
            "align_self": null,
            "height": null,
            "min_height": null,
            "padding": null,
            "grid_auto_rows": null,
            "grid_gap": null,
            "max_width": null,
            "order": null,
            "_view_module_version": "1.2.0",
            "grid_template_areas": null,
            "object_position": null,
            "object_fit": null,
            "grid_auto_columns": null,
            "margin": null,
            "display": null,
            "left": null
          }
        },
        "bfdcf0fac35e4a3bb311047158c27249": {
          "model_module": "@jupyter-widgets/controls",
          "model_name": "FloatProgressModel",
          "state": {
            "_view_name": "ProgressView",
            "style": "IPY_MODEL_c190730d1bc540aeb2a32cf7aa28eb02",
            "_dom_classes": [],
            "description": "main:  35%",
            "_model_name": "FloatProgressModel",
            "bar_style": "",
            "max": 37841,
            "_view_module": "@jupyter-widgets/controls",
            "_model_module_version": "1.5.0",
            "value": 13329,
            "_view_count": null,
            "_view_module_version": "1.5.0",
            "orientation": "horizontal",
            "min": 0,
            "description_tooltip": null,
            "_model_module": "@jupyter-widgets/controls",
            "layout": "IPY_MODEL_a053c53eac604694b830f23222973753"
          }
        },
        "51f51c8ea2034d5cb10edaebf4ac8dba": {
          "model_module": "@jupyter-widgets/controls",
          "model_name": "HTMLModel",
          "state": {
            "_view_name": "HTMLView",
            "style": "IPY_MODEL_2fd03c247e7f478d994a5fe9357ab297",
            "_dom_classes": [],
            "description": "",
            "_model_name": "HTMLModel",
            "placeholder": "​",
            "_view_module": "@jupyter-widgets/controls",
            "_model_module_version": "1.5.0",
            "value": " 13329/37841 [02:46&lt;04:58, 82.20it/s]",
            "_view_count": null,
            "_view_module_version": "1.5.0",
            "description_tooltip": null,
            "_model_module": "@jupyter-widgets/controls",
            "layout": "IPY_MODEL_24d0c1b26af14a50b626a40df32843c9"
          }
        },
        "c190730d1bc540aeb2a32cf7aa28eb02": {
          "model_module": "@jupyter-widgets/controls",
          "model_name": "ProgressStyleModel",
          "state": {
            "_view_name": "StyleView",
            "_model_name": "ProgressStyleModel",
            "description_width": "initial",
            "_view_module": "@jupyter-widgets/base",
            "_model_module_version": "1.5.0",
            "_view_count": null,
            "_view_module_version": "1.2.0",
            "bar_color": null,
            "_model_module": "@jupyter-widgets/controls"
          }
        },
        "a053c53eac604694b830f23222973753": {
          "model_module": "@jupyter-widgets/base",
          "model_name": "LayoutModel",
          "state": {
            "_view_name": "LayoutView",
            "grid_template_rows": null,
            "right": null,
            "justify_content": null,
            "_view_module": "@jupyter-widgets/base",
            "overflow": null,
            "_model_module_version": "1.2.0",
            "_view_count": null,
            "flex_flow": null,
            "width": null,
            "min_width": null,
            "border": null,
            "align_items": null,
            "bottom": null,
            "_model_module": "@jupyter-widgets/base",
            "top": null,
            "grid_column": null,
            "overflow_y": null,
            "overflow_x": null,
            "grid_auto_flow": null,
            "grid_area": null,
            "grid_template_columns": null,
            "flex": null,
            "_model_name": "LayoutModel",
            "justify_items": null,
            "grid_row": null,
            "max_height": null,
            "align_content": null,
            "visibility": null,
            "align_self": null,
            "height": null,
            "min_height": null,
            "padding": null,
            "grid_auto_rows": null,
            "grid_gap": null,
            "max_width": null,
            "order": null,
            "_view_module_version": "1.2.0",
            "grid_template_areas": null,
            "object_position": null,
            "object_fit": null,
            "grid_auto_columns": null,
            "margin": null,
            "display": null,
            "left": null
          }
        },
        "2fd03c247e7f478d994a5fe9357ab297": {
          "model_module": "@jupyter-widgets/controls",
          "model_name": "DescriptionStyleModel",
          "state": {
            "_view_name": "StyleView",
            "_model_name": "DescriptionStyleModel",
            "description_width": "",
            "_view_module": "@jupyter-widgets/base",
            "_model_module_version": "1.5.0",
            "_view_count": null,
            "_view_module_version": "1.2.0",
            "_model_module": "@jupyter-widgets/controls"
          }
        },
        "24d0c1b26af14a50b626a40df32843c9": {
          "model_module": "@jupyter-widgets/base",
          "model_name": "LayoutModel",
          "state": {
            "_view_name": "LayoutView",
            "grid_template_rows": null,
            "right": null,
            "justify_content": null,
            "_view_module": "@jupyter-widgets/base",
            "overflow": null,
            "_model_module_version": "1.2.0",
            "_view_count": null,
            "flex_flow": null,
            "width": null,
            "min_width": null,
            "border": null,
            "align_items": null,
            "bottom": null,
            "_model_module": "@jupyter-widgets/base",
            "top": null,
            "grid_column": null,
            "overflow_y": null,
            "overflow_x": null,
            "grid_auto_flow": null,
            "grid_area": null,
            "grid_template_columns": null,
            "flex": null,
            "_model_name": "LayoutModel",
            "justify_items": null,
            "grid_row": null,
            "max_height": null,
            "align_content": null,
            "visibility": null,
            "align_self": null,
            "height": null,
            "min_height": null,
            "padding": null,
            "grid_auto_rows": null,
            "grid_gap": null,
            "max_width": null,
            "order": null,
            "_view_module_version": "1.2.0",
            "grid_template_areas": null,
            "object_position": null,
            "object_fit": null,
            "grid_auto_columns": null,
            "margin": null,
            "display": null,
            "left": null
          }
        }
      }
    }
  },
  "cells": [
    {
      "cell_type": "markdown",
      "metadata": {
        "id": "view-in-github",
        "colab_type": "text"
      },
      "source": [
        "<a href=\"https://colab.research.google.com/github/stsushimaHTB/test/blob/master/%E6%B0%B4%E6%9B%9C%E3%81%A9%E3%81%86%E3%81%A7%E3%81%97%E3%82%87%E3%81%86%E6%96%B0%E4%BD%9C2.ipynb\" target=\"_parent\"><img src=\"https://colab.research.google.com/assets/colab-badge.svg\" alt=\"Open In Colab\"/></a>"
      ]
    },
    {
      "cell_type": "code",
      "metadata": {
        "id": "Vo-bNVpHcacj",
        "colab_type": "code",
        "colab": {}
      },
      "source": [
        "%matplotlib inline\n",
        "from pandas import Series, DataFrame\n",
        "import pandas as pd\n",
        "import numpy as np\n",
        "import matplotlib.pyplot as plt\n",
        "from datetime import datetime as dt\n",
        "import csv\n",
        "from tqdm import tqdm_notebook as tqdm"
      ],
      "execution_count": 0,
      "outputs": []
    },
    {
      "cell_type": "code",
      "metadata": {
        "id": "jz3yAqyheht1",
        "colab_type": "code",
        "colab": {}
      },
      "source": [
        "pd.options.display.max_rows = 6"
      ],
      "execution_count": 0,
      "outputs": []
    },
    {
      "cell_type": "code",
      "metadata": {
        "id": "fDZF5zw_cgC3",
        "colab_type": "code",
        "colab": {}
      },
      "source": [
        "#df_Wed4 = pd.read_csv( \"/content/drive/My Drive/Colab Notebooks/Wed4_view_log.txt\")\n",
        "df_Wed5 = pd.read_csv( \"/content/drive/My Drive/Colab Notebooks/Wed5_view_log.txt\")\n",
        "#df_Wed6 = pd.read_csv( \"/content/drive/My Drive/Colab Notebooks/Wed6_view_log.txt\")\n",
        "#df_Wed7 = pd.read_csv( \"/content/drive/My Drive/Colab Notebooks/Wed7_view_log.txt\")\n",
        "#df_Wed8 = pd.read_csv( \"/content/drive/My Drive/Colab Notebooks/Wed8_view_log.txt\")\n",
        "#df_Wed9 = pd.read_csv( \"/content/drive/My Drive/Colab Notebooks/Wed9_view_log.txt\")\n",
        "#df_Wed10 = pd.read_csv( \"/content/drive/My Drive/Colab Notebooks/Wed10_view_log.txt\")\n",
        "#df_Wed11 = pd.read_csv( \"/content/drive/My Drive/Colab Notebooks/Wed11_view_log.txt\")"
      ],
      "execution_count": 0,
      "outputs": []
    },
    {
      "cell_type": "code",
      "metadata": {
        "id": "cIx3Yjsscuce",
        "colab_type": "code",
        "outputId": "05ee6574-6e60-458a-adfc-5cfd9228a64f",
        "colab": {
          "base_uri": "https://localhost:8080/",
          "height": 295
        }
      },
      "source": [
        "df_Wed4.head()"
      ],
      "execution_count": 27,
      "outputs": [
        {
          "output_type": "execute_result",
          "data": {
            "text/html": [
              "<div>\n",
              "<style scoped>\n",
              "    .dataframe tbody tr th:only-of-type {\n",
              "        vertical-align: middle;\n",
              "    }\n",
              "\n",
              "    .dataframe tbody tr th {\n",
              "        vertical-align: top;\n",
              "    }\n",
              "\n",
              "    .dataframe thead th {\n",
              "        text-align: right;\n",
              "    }\n",
              "</style>\n",
              "<table border=\"1\" class=\"dataframe\">\n",
              "  <thead>\n",
              "    <tr style=\"text-align: right;\">\n",
              "      <th></th>\n",
              "      <th>Unnamed: 0</th>\n",
              "      <th>unique_id</th>\n",
              "      <th>time_in_jst</th>\n",
              "      <th>time_out_jst</th>\n",
              "      <th>post_code</th>\n",
              "      <th>status_data</th>\n",
              "      <th>ip_address</th>\n",
              "      <th>browser</th>\n",
              "      <th>time_send_jst</th>\n",
              "      <th>manufacture_id</th>\n",
              "      <th>original_data</th>\n",
              "    </tr>\n",
              "  </thead>\n",
              "  <tbody>\n",
              "    <tr>\n",
              "      <th>0</th>\n",
              "      <td>0</td>\n",
              "      <td>950331c8-0b02-4f05-a40d-9dfaa7897f9d</td>\n",
              "      <td>2020-01-22 23:14:27</td>\n",
              "      <td>2020-01-22 23:43:26</td>\n",
              "      <td>0600807</td>\n",
              "      <td>1</td>\n",
              "      <td>60.59.76.129</td>\n",
              "      <td>PANAIBROWSER</td>\n",
              "      <td>2020-01-28 06:58:11</td>\n",
              "      <td>19</td>\n",
              "      <td>|2020-01-22T23:14:27|2020-01-22T23:43:26|50|0|...</td>\n",
              "    </tr>\n",
              "    <tr>\n",
              "      <th>1</th>\n",
              "      <td>1</td>\n",
              "      <td>62bd5c9b-7863-423f-815a-cd352b61bedb</td>\n",
              "      <td>2020-01-22 23:14:31</td>\n",
              "      <td>2020-01-22 23:43:30</td>\n",
              "      <td>0640823</td>\n",
              "      <td>1</td>\n",
              "      <td>60.59.77.7</td>\n",
              "      <td>PANAIBROWSER</td>\n",
              "      <td>2020-01-24 16:54:02</td>\n",
              "      <td>19</td>\n",
              "      <td>|2020-01-22T23:14:31|2020-01-22T23:43:30|50|0|...</td>\n",
              "    </tr>\n",
              "    <tr>\n",
              "      <th>2</th>\n",
              "      <td>2</td>\n",
              "      <td>6af6e4db-5362-4955-8c99-80bd62cf88d4</td>\n",
              "      <td>2020-01-22 23:14:51</td>\n",
              "      <td>2020-01-22 23:43:50</td>\n",
              "      <td>0820036</td>\n",
              "      <td>1</td>\n",
              "      <td>126.147.94.66</td>\n",
              "      <td>NetFrontForDTV</td>\n",
              "      <td>2020-02-05 18:10:44</td>\n",
              "      <td>11</td>\n",
              "      <td>|2020-01-22T23:14:51|2020-01-22T23:43:50|50|27...</td>\n",
              "    </tr>\n",
              "    <tr>\n",
              "      <th>3</th>\n",
              "      <td>3</td>\n",
              "      <td>18969118-9aa7-4329-b618-e56bdfd035de</td>\n",
              "      <td>2020-01-22 23:14:53</td>\n",
              "      <td>2020-01-22 23:43:52</td>\n",
              "      <td>0640806</td>\n",
              "      <td>1</td>\n",
              "      <td>126.241.192.3</td>\n",
              "      <td>NetFrontForDTV</td>\n",
              "      <td>2020-01-23 18:17:50</td>\n",
              "      <td>11</td>\n",
              "      <td>|2020-01-22T23:14:53|2020-01-22T23:43:52|50|27...</td>\n",
              "    </tr>\n",
              "    <tr>\n",
              "      <th>4</th>\n",
              "      <td>4</td>\n",
              "      <td>708dc313-a3ca-40e9-ad4a-721b065590fa</td>\n",
              "      <td>2020-01-22 23:14:54</td>\n",
              "      <td>2020-01-22 23:43:53</td>\n",
              "      <td>0070842</td>\n",
              "      <td>1</td>\n",
              "      <td>125.52.118.79</td>\n",
              "      <td>NetFrontForDTV</td>\n",
              "      <td>2020-01-29 16:54:14</td>\n",
              "      <td>11</td>\n",
              "      <td>|2020-01-22T23:14:54|2020-01-22T23:43:53|50|27...</td>\n",
              "    </tr>\n",
              "  </tbody>\n",
              "</table>\n",
              "</div>"
            ],
            "text/plain": [
              "   Unnamed: 0  ...                                      original_data\n",
              "0           0  ...  |2020-01-22T23:14:27|2020-01-22T23:43:26|50|0|...\n",
              "1           1  ...  |2020-01-22T23:14:31|2020-01-22T23:43:30|50|0|...\n",
              "2           2  ...  |2020-01-22T23:14:51|2020-01-22T23:43:50|50|27...\n",
              "3           3  ...  |2020-01-22T23:14:53|2020-01-22T23:43:52|50|27...\n",
              "4           4  ...  |2020-01-22T23:14:54|2020-01-22T23:43:53|50|27...\n",
              "\n",
              "[5 rows x 11 columns]"
            ]
          },
          "metadata": {
            "tags": []
          },
          "execution_count": 27
        }
      ]
    },
    {
      "cell_type": "code",
      "metadata": {
        "id": "NOYk0-C2cw3J",
        "colab_type": "code",
        "outputId": "beb59060-74af-489d-d753-3f349e1dfeb0",
        "colab": {
          "base_uri": "https://localhost:8080/",
          "height": 194
        }
      },
      "source": [
        "df = df_Wed5[['unique_id', 'time_in_jst', 'time_out_jst']]\n",
        "df.head()"
      ],
      "execution_count": 46,
      "outputs": [
        {
          "output_type": "execute_result",
          "data": {
            "text/html": [
              "<div>\n",
              "<style scoped>\n",
              "    .dataframe tbody tr th:only-of-type {\n",
              "        vertical-align: middle;\n",
              "    }\n",
              "\n",
              "    .dataframe tbody tr th {\n",
              "        vertical-align: top;\n",
              "    }\n",
              "\n",
              "    .dataframe thead th {\n",
              "        text-align: right;\n",
              "    }\n",
              "</style>\n",
              "<table border=\"1\" class=\"dataframe\">\n",
              "  <thead>\n",
              "    <tr style=\"text-align: right;\">\n",
              "      <th></th>\n",
              "      <th>unique_id</th>\n",
              "      <th>time_in_jst</th>\n",
              "      <th>time_out_jst</th>\n",
              "    </tr>\n",
              "  </thead>\n",
              "  <tbody>\n",
              "    <tr>\n",
              "      <th>0</th>\n",
              "      <td>a4a54325-0008-4c78-aeaa-1ba60159d0b3</td>\n",
              "      <td>2020-01-23 16:00:09</td>\n",
              "      <td>2020-03-13 10:34:48</td>\n",
              "    </tr>\n",
              "    <tr>\n",
              "      <th>1</th>\n",
              "      <td>4ddcbe95-7b04-437c-8f26-015267864c91</td>\n",
              "      <td>2020-01-29 23:12:07</td>\n",
              "      <td>2020-01-29 23:41:04</td>\n",
              "    </tr>\n",
              "    <tr>\n",
              "      <th>2</th>\n",
              "      <td>2132159c-f61d-4c69-8abc-82268f7181d5</td>\n",
              "      <td>2020-01-29 23:12:36</td>\n",
              "      <td>2020-01-29 23:41:35</td>\n",
              "    </tr>\n",
              "    <tr>\n",
              "      <th>3</th>\n",
              "      <td>07108b56-ab73-424b-a3c6-6ad46a947d84</td>\n",
              "      <td>2020-01-29 23:14:14</td>\n",
              "      <td>2020-01-29 23:43:13</td>\n",
              "    </tr>\n",
              "    <tr>\n",
              "      <th>4</th>\n",
              "      <td>7d26b52e-d827-46bf-8c12-bba25c1222ce</td>\n",
              "      <td>2020-01-29 23:14:40</td>\n",
              "      <td>2020-01-29 23:31:34</td>\n",
              "    </tr>\n",
              "  </tbody>\n",
              "</table>\n",
              "</div>"
            ],
            "text/plain": [
              "                              unique_id  ...         time_out_jst\n",
              "0  a4a54325-0008-4c78-aeaa-1ba60159d0b3  ...  2020-03-13 10:34:48\n",
              "1  4ddcbe95-7b04-437c-8f26-015267864c91  ...  2020-01-29 23:41:04\n",
              "2  2132159c-f61d-4c69-8abc-82268f7181d5  ...  2020-01-29 23:41:35\n",
              "3  07108b56-ab73-424b-a3c6-6ad46a947d84  ...  2020-01-29 23:43:13\n",
              "4  7d26b52e-d827-46bf-8c12-bba25c1222ce  ...  2020-01-29 23:31:34\n",
              "\n",
              "[5 rows x 3 columns]"
            ]
          },
          "metadata": {
            "tags": []
          },
          "execution_count": 46
        }
      ]
    },
    {
      "cell_type": "code",
      "metadata": {
        "id": "lQw2S5dNgS0x",
        "colab_type": "code",
        "outputId": "3b45a3fd-6d7d-4114-f792-71c7420c805b",
        "colab": {
          "base_uri": "https://localhost:8080/",
          "height": 194
        }
      },
      "source": [
        "df.head()"
      ],
      "execution_count": 16,
      "outputs": [
        {
          "output_type": "execute_result",
          "data": {
            "text/html": [
              "<div>\n",
              "<style scoped>\n",
              "    .dataframe tbody tr th:only-of-type {\n",
              "        vertical-align: middle;\n",
              "    }\n",
              "\n",
              "    .dataframe tbody tr th {\n",
              "        vertical-align: top;\n",
              "    }\n",
              "\n",
              "    .dataframe thead th {\n",
              "        text-align: right;\n",
              "    }\n",
              "</style>\n",
              "<table border=\"1\" class=\"dataframe\">\n",
              "  <thead>\n",
              "    <tr style=\"text-align: right;\">\n",
              "      <th></th>\n",
              "      <th>unique_id</th>\n",
              "      <th>time_in_jst</th>\n",
              "      <th>time_out_jst</th>\n",
              "    </tr>\n",
              "  </thead>\n",
              "  <tbody>\n",
              "    <tr>\n",
              "      <th>0</th>\n",
              "      <td>c9e5aafe-23bb-4329-8953-5a0189e49bdf</td>\n",
              "      <td>2020-02-19 06:00:04</td>\n",
              "      <td>2020-02-19 06:31:51</td>\n",
              "    </tr>\n",
              "    <tr>\n",
              "      <th>1</th>\n",
              "      <td>0d778493-6fa0-4ad8-99bd-474e639c96ac</td>\n",
              "      <td>2020-02-19 06:00:05</td>\n",
              "      <td>2020-02-19 06:41:20</td>\n",
              "    </tr>\n",
              "    <tr>\n",
              "      <th>2</th>\n",
              "      <td>4841a7f4-163b-40d1-9dd7-35b9d83451ee</td>\n",
              "      <td>2020-02-19 06:00:05</td>\n",
              "      <td>2020-02-19 07:05:16</td>\n",
              "    </tr>\n",
              "    <tr>\n",
              "      <th>3</th>\n",
              "      <td>7dd5d9bf-f755-4fbc-8fd2-0866296b4274</td>\n",
              "      <td>2020-02-19 06:00:05</td>\n",
              "      <td>2020-02-19 07:36:03</td>\n",
              "    </tr>\n",
              "    <tr>\n",
              "      <th>4</th>\n",
              "      <td>6fe34d35-43ba-42ea-8ee0-ed6178d7d49a</td>\n",
              "      <td>2020-02-19 06:00:06</td>\n",
              "      <td>2020-02-19 06:11:19</td>\n",
              "    </tr>\n",
              "  </tbody>\n",
              "</table>\n",
              "</div>"
            ],
            "text/plain": [
              "                              unique_id  ...         time_out_jst\n",
              "0  c9e5aafe-23bb-4329-8953-5a0189e49bdf  ...  2020-02-19 06:31:51\n",
              "1  0d778493-6fa0-4ad8-99bd-474e639c96ac  ...  2020-02-19 06:41:20\n",
              "2  4841a7f4-163b-40d1-9dd7-35b9d83451ee  ...  2020-02-19 07:05:16\n",
              "3  7dd5d9bf-f755-4fbc-8fd2-0866296b4274  ...  2020-02-19 07:36:03\n",
              "4  6fe34d35-43ba-42ea-8ee0-ed6178d7d49a  ...  2020-02-19 06:11:19\n",
              "\n",
              "[5 rows x 3 columns]"
            ]
          },
          "metadata": {
            "tags": []
          },
          "execution_count": 16
        }
      ]
    },
    {
      "cell_type": "markdown",
      "metadata": {
        "id": "axsXcSIFdpqc",
        "colab_type": "text"
      },
      "source": [
        "one-hotベクトル化"
      ]
    },
    {
      "cell_type": "code",
      "metadata": {
        "id": "DBp7PkFAdZGw",
        "colab_type": "code",
        "outputId": "c6d3df81-49e6-4481-b143-9329c29c011b",
        "colab": {
          "base_uri": "https://localhost:8080/",
          "height": 35
        }
      },
      "source": [
        "month = 1\n",
        "day = 29\n",
        "Wed = \"Wed5\"\n",
        "from_dt = dt(2020, month, day, 23, 15 )\n",
        "to_dt = dt(2020, month, day, 23, 45)\n",
        "#df = df[pd.to_datetime(df.loc[:, 'time_in_jst']) >= from_dt ] #この条件変\n",
        "#df = df[pd.to_datetime(df.loc[:, 'time_out_jst']) <= to_dt ] #この条件変\n",
        "df = df[pd.to_datetime(df.loc[:, 'time_out_jst']) > from_dt ]\n",
        "df = df[pd.to_datetime(df.loc[:, 'time_in_jst']) < to_dt ]\n",
        "\n",
        "#保存するcsv名を作っちゃう\n",
        "csv_name  = \"/content/drive/My Drive/Colab Notebooks/onehot_howisWednesday_\" +  from_dt.strftime('%Y%m%d') +\"_\"+ Wed +'_new.csv'\n",
        "print(csv_name)"
      ],
      "execution_count": 47,
      "outputs": [
        {
          "output_type": "stream",
          "text": [
            "/content/drive/My Drive/Colab Notebooks/onehot_howisWednesday_20200129_Wed5_new.csv\n"
          ],
          "name": "stdout"
        }
      ]
    },
    {
      "cell_type": "code",
      "metadata": {
        "id": "DCopxXT6kCp2",
        "colab_type": "code",
        "colab": {
          "base_uri": "https://localhost:8080/",
          "height": 194
        },
        "outputId": "059602f7-bf86-4a1b-bf87-c32115fc000f"
      },
      "source": [
        "df.head()"
      ],
      "execution_count": 48,
      "outputs": [
        {
          "output_type": "execute_result",
          "data": {
            "text/html": [
              "<div>\n",
              "<style scoped>\n",
              "    .dataframe tbody tr th:only-of-type {\n",
              "        vertical-align: middle;\n",
              "    }\n",
              "\n",
              "    .dataframe tbody tr th {\n",
              "        vertical-align: top;\n",
              "    }\n",
              "\n",
              "    .dataframe thead th {\n",
              "        text-align: right;\n",
              "    }\n",
              "</style>\n",
              "<table border=\"1\" class=\"dataframe\">\n",
              "  <thead>\n",
              "    <tr style=\"text-align: right;\">\n",
              "      <th></th>\n",
              "      <th>unique_id</th>\n",
              "      <th>time_in_jst</th>\n",
              "      <th>time_out_jst</th>\n",
              "    </tr>\n",
              "  </thead>\n",
              "  <tbody>\n",
              "    <tr>\n",
              "      <th>0</th>\n",
              "      <td>a4a54325-0008-4c78-aeaa-1ba60159d0b3</td>\n",
              "      <td>2020-01-23 16:00:09</td>\n",
              "      <td>2020-03-13 10:34:48</td>\n",
              "    </tr>\n",
              "    <tr>\n",
              "      <th>1</th>\n",
              "      <td>4ddcbe95-7b04-437c-8f26-015267864c91</td>\n",
              "      <td>2020-01-29 23:12:07</td>\n",
              "      <td>2020-01-29 23:41:04</td>\n",
              "    </tr>\n",
              "    <tr>\n",
              "      <th>2</th>\n",
              "      <td>2132159c-f61d-4c69-8abc-82268f7181d5</td>\n",
              "      <td>2020-01-29 23:12:36</td>\n",
              "      <td>2020-01-29 23:41:35</td>\n",
              "    </tr>\n",
              "    <tr>\n",
              "      <th>3</th>\n",
              "      <td>07108b56-ab73-424b-a3c6-6ad46a947d84</td>\n",
              "      <td>2020-01-29 23:14:14</td>\n",
              "      <td>2020-01-29 23:43:13</td>\n",
              "    </tr>\n",
              "    <tr>\n",
              "      <th>4</th>\n",
              "      <td>7d26b52e-d827-46bf-8c12-bba25c1222ce</td>\n",
              "      <td>2020-01-29 23:14:40</td>\n",
              "      <td>2020-01-29 23:31:34</td>\n",
              "    </tr>\n",
              "  </tbody>\n",
              "</table>\n",
              "</div>"
            ],
            "text/plain": [
              "                              unique_id  ...         time_out_jst\n",
              "0  a4a54325-0008-4c78-aeaa-1ba60159d0b3  ...  2020-03-13 10:34:48\n",
              "1  4ddcbe95-7b04-437c-8f26-015267864c91  ...  2020-01-29 23:41:04\n",
              "2  2132159c-f61d-4c69-8abc-82268f7181d5  ...  2020-01-29 23:41:35\n",
              "3  07108b56-ab73-424b-a3c6-6ad46a947d84  ...  2020-01-29 23:43:13\n",
              "4  7d26b52e-d827-46bf-8c12-bba25c1222ce  ...  2020-01-29 23:31:34\n",
              "\n",
              "[5 rows x 3 columns]"
            ]
          },
          "metadata": {
            "tags": []
          },
          "execution_count": 48
        }
      ]
    },
    {
      "cell_type": "code",
      "metadata": {
        "id": "G5yYMImtpJ2F",
        "colab_type": "code",
        "colab": {
          "base_uri": "https://localhost:8080/",
          "height": 35
        },
        "outputId": "c48a211a-e9e4-4f17-c2bc-49a64cfbd8e8"
      },
      "source": [
        "len(df)"
      ],
      "execution_count": 49,
      "outputs": [
        {
          "output_type": "execute_result",
          "data": {
            "text/plain": [
              "48614"
            ]
          },
          "metadata": {
            "tags": []
          },
          "execution_count": 49
        }
      ]
    },
    {
      "cell_type": "code",
      "metadata": {
        "id": "3CaCk3E1eK4d",
        "colab_type": "code",
        "outputId": "189eb4bd-0f1a-4fce-ddaf-eedf7ed4d9bf",
        "colab": {
          "base_uri": "https://localhost:8080/",
          "height": 230
        }
      },
      "source": [
        "rng = pd.date_range(from_dt, to_dt, freq='S')  # 毎秒でどうでしょうの時間を指定\n",
        "print(rng)"
      ],
      "execution_count": 50,
      "outputs": [
        {
          "output_type": "stream",
          "text": [
            "DatetimeIndex(['2020-01-29 23:15:00', '2020-01-29 23:15:01',\n",
            "               '2020-01-29 23:15:02', '2020-01-29 23:15:03',\n",
            "               '2020-01-29 23:15:04', '2020-01-29 23:15:05',\n",
            "               '2020-01-29 23:15:06', '2020-01-29 23:15:07',\n",
            "               '2020-01-29 23:15:08', '2020-01-29 23:15:09',\n",
            "               ...\n",
            "               '2020-01-29 23:44:51', '2020-01-29 23:44:52',\n",
            "               '2020-01-29 23:44:53', '2020-01-29 23:44:54',\n",
            "               '2020-01-29 23:44:55', '2020-01-29 23:44:56',\n",
            "               '2020-01-29 23:44:57', '2020-01-29 23:44:58',\n",
            "               '2020-01-29 23:44:59', '2020-01-29 23:45:00'],\n",
            "              dtype='datetime64[ns]', length=1801, freq='S')\n"
          ],
          "name": "stdout"
        }
      ]
    },
    {
      "cell_type": "code",
      "metadata": {
        "id": "ij_CrZcshG1c",
        "colab_type": "code",
        "colab": {
          "base_uri": "https://localhost:8080/",
          "height": 124
        },
        "outputId": "8144cc7a-f3e1-41e4-e6c3-8c5731b484d3"
      },
      "source": [
        "temp_ser = df['unique_id'].unique()  # クレンジングした視聴データから unique_id のシリーズを生成\n",
        "print(temp_ser)"
      ],
      "execution_count": 51,
      "outputs": [
        {
          "output_type": "stream",
          "text": [
            "['a4a54325-0008-4c78-aeaa-1ba60159d0b3'\n",
            " '4ddcbe95-7b04-437c-8f26-015267864c91'\n",
            " '2132159c-f61d-4c69-8abc-82268f7181d5' ...\n",
            " '08003e9c-4bd8-4201-a9f4-d55df2408c0c'\n",
            " '57c64d20-5538-4602-8b08-b5a9b192b68d'\n",
            " '8df2450d-44ba-4d9b-8f23-fca653a2458a']\n"
          ],
          "name": "stdout"
        }
      ]
    },
    {
      "cell_type": "code",
      "metadata": {
        "id": "Dqr78R0bkmDR",
        "colab_type": "code",
        "colab": {
          "base_uri": "https://localhost:8080/",
          "height": 35
        },
        "outputId": "6fab84c5-6d3e-4004-89b3-4bc6154d7b86"
      },
      "source": [
        "len(temp_ser)"
      ],
      "execution_count": 52,
      "outputs": [
        {
          "output_type": "execute_result",
          "data": {
            "text/plain": [
              "37842"
            ]
          },
          "metadata": {
            "tags": []
          },
          "execution_count": 52
        }
      ]
    },
    {
      "cell_type": "code",
      "metadata": {
        "id": "AJielKUaeah2",
        "colab_type": "code",
        "outputId": "1ed32807-ba91-4ba3-ab5e-f1b95c796613",
        "colab": {
          "base_uri": "https://localhost:8080/",
          "height": 35
        }
      },
      "source": [
        "temp_ser[0:1]"
      ],
      "execution_count": 75,
      "outputs": [
        {
          "output_type": "execute_result",
          "data": {
            "text/plain": [
              "array(['32323c28-b2b6-4aad-bd13-13efe188155f'], dtype=object)"
            ]
          },
          "metadata": {
            "tags": []
          },
          "execution_count": 75
        }
      ]
    },
    {
      "cell_type": "code",
      "metadata": {
        "id": "gy09lu-EedcO",
        "colab_type": "code",
        "outputId": "c9c3d85e-04a9-4845-a8bd-af299dff7ce9",
        "colab": {
          "base_uri": "https://localhost:8080/",
          "height": 102,
          "referenced_widgets": [
            "6b5c7dd3e0884ac7a9b391c8a306ae7f",
            "f2158377a32240eea5442f373b87610d",
            "bfdcf0fac35e4a3bb311047158c27249",
            "51f51c8ea2034d5cb10edaebf4ac8dba",
            "c190730d1bc540aeb2a32cf7aa28eb02",
            "a053c53eac604694b830f23222973753",
            "2fd03c247e7f478d994a5fe9357ab297",
            "24d0c1b26af14a50b626a40df32843c9"
          ]
        }
      },
      "source": [
        "#初期化 一個は普通に作る\n",
        "temp_df = pd.DataFrame(0, columns = rng, index = temp_ser[0:1])\n",
        "temp_uid_df = df[df['unique_id'] == temp_ser[0:1][0]]\n",
        "for i in range(len(temp_uid_df)):\n",
        "    temp_df.loc[temp_uid_df.iloc[i,0], temp_uid_df.iloc[i,1]:temp_uid_df.iloc[i,2]] = 1\n",
        "    \n",
        "temp_df.to_csv(csv_name, mode = 'w', header = True)\n",
        "\n",
        "\n",
        "#ここからuidごとに抽出した行列を使って1に埋めていく\n",
        "for j in tqdm(range(1, len(temp_ser)), desc = 'main'):\n",
        "    temp_df = pd.DataFrame(0, columns = rng, index = temp_ser[j: j+1])\n",
        "    temp_uid_df = df[df['unique_id'] == temp_ser[j: j+1][0]]\n",
        "    for k in range(len(temp_uid_df)):\n",
        "        temp_df.loc[temp_uid_df.iloc[k, 0], temp_uid_df.iloc[k,1]:temp_uid_df.iloc[k,2]] = 1\n",
        "    temp_df.to_csv(csv_name, mode = 'a', header = False)"
      ],
      "execution_count": 0,
      "outputs": [
        {
          "output_type": "stream",
          "text": [
            "/usr/local/lib/python3.6/dist-packages/ipykernel_launcher.py:11: TqdmDeprecationWarning: This function will be removed in tqdm==5.0.0\n",
            "Please use `tqdm.notebook.tqdm` instead of `tqdm.tqdm_notebook`\n",
            "  # This is added back by InteractiveShellApp.init_path()\n"
          ],
          "name": "stderr"
        },
        {
          "output_type": "display_data",
          "data": {
            "application/vnd.jupyter.widget-view+json": {
              "model_id": "6b5c7dd3e0884ac7a9b391c8a306ae7f",
              "version_minor": 0,
              "version_major": 2
            },
            "text/plain": [
              "HBox(children=(FloatProgress(value=0.0, description='main', max=37841.0, style=ProgressStyle(description_width…"
            ]
          },
          "metadata": {
            "tags": []
          }
        }
      ]
    },
    {
      "cell_type": "code",
      "metadata": {
        "id": "FNQK2DkgersL",
        "colab_type": "code",
        "colab": {}
      },
      "source": [
        ""
      ],
      "execution_count": 0,
      "outputs": []
    }
  ]
}