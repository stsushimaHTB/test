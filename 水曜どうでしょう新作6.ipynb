{
  "nbformat": 4,
  "nbformat_minor": 0,
  "metadata": {
    "colab": {
      "name": "水曜どうでしょう新作6.ipynb",
      "provenance": [],
      "collapsed_sections": [],
      "mount_file_id": "1VC52liyunItaR8Xd7QBBtYjMPXv-4V-t",
      "authorship_tag": "ABX9TyM9UzRL9PX3TCEtdIbgo3oZ",
      "include_colab_link": true
    },
    "kernelspec": {
      "name": "python3",
      "display_name": "Python 3"
    },
    "widgets": {
      "application/vnd.jupyter.widget-state+json": {
        "a21661a1b2524d9a8200d7ec54e058cc": {
          "model_module": "@jupyter-widgets/controls",
          "model_name": "HBoxModel",
          "state": {
            "_view_name": "HBoxView",
            "_dom_classes": [],
            "_model_name": "HBoxModel",
            "_view_module": "@jupyter-widgets/controls",
            "_model_module_version": "1.5.0",
            "_view_count": null,
            "_view_module_version": "1.5.0",
            "box_style": "",
            "layout": "IPY_MODEL_5e00e022f9b74615b19017f0d5031ca5",
            "_model_module": "@jupyter-widgets/controls",
            "children": [
              "IPY_MODEL_041c454b51904cfe92fe3213fff8d570",
              "IPY_MODEL_c4ffe0bfd3f847ada756255f961c9fde"
            ]
          }
        },
        "5e00e022f9b74615b19017f0d5031ca5": {
          "model_module": "@jupyter-widgets/base",
          "model_name": "LayoutModel",
          "state": {
            "_view_name": "LayoutView",
            "grid_template_rows": null,
            "right": null,
            "justify_content": null,
            "_view_module": "@jupyter-widgets/base",
            "overflow": null,
            "_model_module_version": "1.2.0",
            "_view_count": null,
            "flex_flow": null,
            "width": null,
            "min_width": null,
            "border": null,
            "align_items": null,
            "bottom": null,
            "_model_module": "@jupyter-widgets/base",
            "top": null,
            "grid_column": null,
            "overflow_y": null,
            "overflow_x": null,
            "grid_auto_flow": null,
            "grid_area": null,
            "grid_template_columns": null,
            "flex": null,
            "_model_name": "LayoutModel",
            "justify_items": null,
            "grid_row": null,
            "max_height": null,
            "align_content": null,
            "visibility": null,
            "align_self": null,
            "height": null,
            "min_height": null,
            "padding": null,
            "grid_auto_rows": null,
            "grid_gap": null,
            "max_width": null,
            "order": null,
            "_view_module_version": "1.2.0",
            "grid_template_areas": null,
            "object_position": null,
            "object_fit": null,
            "grid_auto_columns": null,
            "margin": null,
            "display": null,
            "left": null
          }
        },
        "041c454b51904cfe92fe3213fff8d570": {
          "model_module": "@jupyter-widgets/controls",
          "model_name": "FloatProgressModel",
          "state": {
            "_view_name": "ProgressView",
            "style": "IPY_MODEL_600dba08e22b4a9ea6c6f1e1c974cfda",
            "_dom_classes": [],
            "description": "main: 100%",
            "_model_name": "FloatProgressModel",
            "bar_style": "success",
            "max": 136541,
            "_view_module": "@jupyter-widgets/controls",
            "_model_module_version": "1.5.0",
            "value": 136541,
            "_view_count": null,
            "_view_module_version": "1.5.0",
            "orientation": "horizontal",
            "min": 0,
            "description_tooltip": null,
            "_model_module": "@jupyter-widgets/controls",
            "layout": "IPY_MODEL_427170ec2cce431081439a751654310f"
          }
        },
        "c4ffe0bfd3f847ada756255f961c9fde": {
          "model_module": "@jupyter-widgets/controls",
          "model_name": "HTMLModel",
          "state": {
            "_view_name": "HTMLView",
            "style": "IPY_MODEL_3c9d27cd8a4b474aa7a8e32dfdbdaf29",
            "_dom_classes": [],
            "description": "",
            "_model_name": "HTMLModel",
            "placeholder": "​",
            "_view_module": "@jupyter-widgets/controls",
            "_model_module_version": "1.5.0",
            "value": " 136541/136541 [18:05&lt;00:00, 125.73it/s]",
            "_view_count": null,
            "_view_module_version": "1.5.0",
            "description_tooltip": null,
            "_model_module": "@jupyter-widgets/controls",
            "layout": "IPY_MODEL_96afd863cd774a63aa8ee578e87a1def"
          }
        },
        "600dba08e22b4a9ea6c6f1e1c974cfda": {
          "model_module": "@jupyter-widgets/controls",
          "model_name": "ProgressStyleModel",
          "state": {
            "_view_name": "StyleView",
            "_model_name": "ProgressStyleModel",
            "description_width": "initial",
            "_view_module": "@jupyter-widgets/base",
            "_model_module_version": "1.5.0",
            "_view_count": null,
            "_view_module_version": "1.2.0",
            "bar_color": null,
            "_model_module": "@jupyter-widgets/controls"
          }
        },
        "427170ec2cce431081439a751654310f": {
          "model_module": "@jupyter-widgets/base",
          "model_name": "LayoutModel",
          "state": {
            "_view_name": "LayoutView",
            "grid_template_rows": null,
            "right": null,
            "justify_content": null,
            "_view_module": "@jupyter-widgets/base",
            "overflow": null,
            "_model_module_version": "1.2.0",
            "_view_count": null,
            "flex_flow": null,
            "width": null,
            "min_width": null,
            "border": null,
            "align_items": null,
            "bottom": null,
            "_model_module": "@jupyter-widgets/base",
            "top": null,
            "grid_column": null,
            "overflow_y": null,
            "overflow_x": null,
            "grid_auto_flow": null,
            "grid_area": null,
            "grid_template_columns": null,
            "flex": null,
            "_model_name": "LayoutModel",
            "justify_items": null,
            "grid_row": null,
            "max_height": null,
            "align_content": null,
            "visibility": null,
            "align_self": null,
            "height": null,
            "min_height": null,
            "padding": null,
            "grid_auto_rows": null,
            "grid_gap": null,
            "max_width": null,
            "order": null,
            "_view_module_version": "1.2.0",
            "grid_template_areas": null,
            "object_position": null,
            "object_fit": null,
            "grid_auto_columns": null,
            "margin": null,
            "display": null,
            "left": null
          }
        },
        "3c9d27cd8a4b474aa7a8e32dfdbdaf29": {
          "model_module": "@jupyter-widgets/controls",
          "model_name": "DescriptionStyleModel",
          "state": {
            "_view_name": "StyleView",
            "_model_name": "DescriptionStyleModel",
            "description_width": "",
            "_view_module": "@jupyter-widgets/base",
            "_model_module_version": "1.5.0",
            "_view_count": null,
            "_view_module_version": "1.2.0",
            "_model_module": "@jupyter-widgets/controls"
          }
        },
        "96afd863cd774a63aa8ee578e87a1def": {
          "model_module": "@jupyter-widgets/base",
          "model_name": "LayoutModel",
          "state": {
            "_view_name": "LayoutView",
            "grid_template_rows": null,
            "right": null,
            "justify_content": null,
            "_view_module": "@jupyter-widgets/base",
            "overflow": null,
            "_model_module_version": "1.2.0",
            "_view_count": null,
            "flex_flow": null,
            "width": null,
            "min_width": null,
            "border": null,
            "align_items": null,
            "bottom": null,
            "_model_module": "@jupyter-widgets/base",
            "top": null,
            "grid_column": null,
            "overflow_y": null,
            "overflow_x": null,
            "grid_auto_flow": null,
            "grid_area": null,
            "grid_template_columns": null,
            "flex": null,
            "_model_name": "LayoutModel",
            "justify_items": null,
            "grid_row": null,
            "max_height": null,
            "align_content": null,
            "visibility": null,
            "align_self": null,
            "height": null,
            "min_height": null,
            "padding": null,
            "grid_auto_rows": null,
            "grid_gap": null,
            "max_width": null,
            "order": null,
            "_view_module_version": "1.2.0",
            "grid_template_areas": null,
            "object_position": null,
            "object_fit": null,
            "grid_auto_columns": null,
            "margin": null,
            "display": null,
            "left": null
          }
        }
      }
    }
  },
  "cells": [
    {
      "cell_type": "markdown",
      "metadata": {
        "id": "view-in-github",
        "colab_type": "text"
      },
      "source": [
        "<a href=\"https://colab.research.google.com/github/stsushimaHTB/test/blob/master/%E6%B0%B4%E6%9B%9C%E3%81%A9%E3%81%86%E3%81%A7%E3%81%97%E3%82%87%E3%81%86%E6%96%B0%E4%BD%9C6.ipynb\" target=\"_parent\"><img src=\"https://colab.research.google.com/assets/colab-badge.svg\" alt=\"Open In Colab\"/></a>"
      ]
    },
    {
      "cell_type": "markdown",
      "metadata": {
        "id": "b_hCxZ10a82F",
        "colab_type": "text"
      },
      "source": [
        "常連さん調査"
      ]
    },
    {
      "cell_type": "code",
      "metadata": {
        "id": "3BEjtfjYaZ16",
        "colab_type": "code",
        "colab": {}
      },
      "source": [
        "%matplotlib inline\n",
        "from pandas import Series, DataFrame\n",
        "import pandas as pd\n",
        "import numpy as np\n",
        "import matplotlib.pyplot as plt\n",
        "from datetime import datetime as dt\n",
        "import csv\n",
        "from tqdm import tqdm_notebook as tqdm\n",
        "import codecs"
      ],
      "execution_count": 0,
      "outputs": []
    },
    {
      "cell_type": "code",
      "metadata": {
        "id": "zWMQtyiBbbrH",
        "colab_type": "code",
        "colab": {}
      },
      "source": [
        "with codecs.open(\"/content/drive/My Drive/Colab Notebooks/Wed4_uuid_zipcode.csv\", 'r', 'utf-8', 'ignore') as f:\n",
        "  lines4 = f.readlines()\n",
        "\n",
        "with codecs.open(\"/content/drive/My Drive/Colab Notebooks/Wed5_uuid_zipcode.csv\", 'r', 'utf-8', 'ignore') as f:\n",
        "  lines5 = f.readlines()\n",
        "\n",
        "with codecs.open(\"/content/drive/My Drive/Colab Notebooks/Wed6_uuid_zipcode.csv\", 'r', 'utf-8', 'ignore') as f:\n",
        "  lines6 = f.readlines()\n",
        "\n",
        "with codecs.open(\"/content/drive/My Drive/Colab Notebooks/Wed7_uuid_zipcode.csv\", 'r', 'utf-8', 'ignore') as f:\n",
        "  lines7 = f.readlines()  \n",
        "\n",
        "with codecs.open(\"/content/drive/My Drive/Colab Notebooks/Wed8_uuid_zipcode.csv\", 'r', 'utf-8', 'ignore') as f:\n",
        "  lines8 = f.readlines()\n",
        "\n",
        "with codecs.open(\"/content/drive/My Drive/Colab Notebooks/Wed9_uuid_zipcode.csv\", 'r', 'utf-8', 'ignore') as f:\n",
        "  lines9 = f.readlines()\n",
        "  \n",
        "with codecs.open(\"/content/drive/My Drive/Colab Notebooks/Wed10_uuid_zipcode.csv\", 'r', 'utf-8', 'ignore') as f:\n",
        "  lines10 = f.readlines()  \n",
        "\n",
        "with codecs.open(\"/content/drive/My Drive/Colab Notebooks/Wed11_uuid_zipcode.csv\", 'r', 'utf-8', 'ignore') as f:\n",
        "  lines11 = f.readlines()  "
      ],
      "execution_count": 0,
      "outputs": []
    },
    {
      "cell_type": "code",
      "metadata": {
        "id": "d0ngKX9Tbmv2",
        "colab_type": "code",
        "colab": {}
      },
      "source": [
        "uuid_all = {} #ユニークIDと郵便番号の辞書\n",
        "\n",
        "UUID4 = []\n",
        "for line in lines4:\n",
        "  items = line.rstrip().split(\",\")\n",
        "  UUID4.append(items[0])\n",
        "  if items[0] not in uuid_all:\n",
        "    uuid_all[items[0]] = items[1]\n",
        "\n",
        "UUID5 = []\n",
        "for line in lines5:\n",
        "  items = line.rstrip().split(\",\")\n",
        "  UUID5.append(items[0])\n",
        "  if items[0] not in uuid_all:\n",
        "    uuid_all[items[0]] = items[1]\n",
        "\n",
        "UUID6 = []\n",
        "for line in lines6:\n",
        "  items = line.rstrip().split(\",\")\n",
        "  UUID6.append(items[0])\n",
        "  if items[0] not in uuid_all:\n",
        "    uuid_all[items[0]] = items[1]\n",
        "\n",
        "UUID7 = []\n",
        "for line in lines7:\n",
        "  items = line.rstrip().split(\",\")\n",
        "  UUID7.append(items[0])\n",
        "  if items[0] not in uuid_all:\n",
        "    uuid_all[items[0]] = items[1]\n",
        "\n",
        "UUID8 = []\n",
        "for line in lines8:\n",
        "  items = line.rstrip().split(\",\")\n",
        "  UUID8.append(items[0])\n",
        "  if items[0] not in uuid_all:\n",
        "    uuid_all[items[0]] = items[1]\n",
        "\n",
        "UUID9 = []\n",
        "for line in lines9:\n",
        "  items = line.rstrip().split(\",\")\n",
        "  UUID9.append(items[0])\n",
        "  if items[0] not in uuid_all:\n",
        "    uuid_all[items[0]] = items[1]\n",
        "\n",
        "UUID10 = []\n",
        "for line in lines10:\n",
        "  items = line.rstrip().split(\",\")\n",
        "  UUID10.append(items[0])\n",
        "  if items[0] not in uuid_all:\n",
        "    uuid_all[items[0]] = items[1]\n",
        "\n",
        "UUID11 = []\n",
        "for line in lines11:\n",
        "  items = line.rstrip().split(\",\")\n",
        "  UUID11.append(items[0])\n",
        "  if items[0] not in uuid_all:\n",
        "    uuid_all[items[0]] = items[1]\n"
      ],
      "execution_count": 0,
      "outputs": []
    },
    {
      "cell_type": "code",
      "metadata": {
        "id": "VvvNPo6yeIjL",
        "colab_type": "code",
        "colab": {
          "base_uri": "https://localhost:8080/",
          "height": 34
        },
        "outputId": "f7a97215-de06-4f95-88cb-fe274e5dbe12"
      },
      "source": [
        "print(len(uuid_all),len(UUID4),len(UUID5),len(UUID6),len(UUID7),len(UUID8),len(UUID9),len(UUID10),len(UUID11))"
      ],
      "execution_count": 19,
      "outputs": [
        {
          "output_type": "stream",
          "text": [
            "136541 18784 37842 36317 31789 20897 35073 35016 33747\n"
          ],
          "name": "stdout"
        }
      ]
    },
    {
      "cell_type": "code",
      "metadata": {
        "id": "QylTdrOLjuMP",
        "colab_type": "code",
        "colab": {
          "base_uri": "https://localhost:8080/",
          "height": 51
        },
        "outputId": "a52ead22-cd89-4c06-f3d6-8121c8ef3b83"
      },
      "source": [
        "#全話（４－１１）見てくれたUUID\n",
        "UUIDand = set(UUID4) & set(UUID5) & set(UUID6) & set(UUID7) & set(UUID8) & set(UUID9) & set(UUID10) & set(UUID11) #複数のリストから共通する要素を取得\n",
        "UUIDand = list(UUIDand)\n",
        "print(len(UUIDand))\n",
        "print(UUIDand[0])"
      ],
      "execution_count": 27,
      "outputs": [
        {
          "output_type": "stream",
          "text": [
            "179\n",
            "d13ffa63-ecfb-4ae0-be87-37543673f8f2\n"
          ],
          "name": "stdout"
        }
      ]
    },
    {
      "cell_type": "code",
      "metadata": {
        "id": "3lrZbRjBlt6a",
        "colab_type": "code",
        "colab": {
          "base_uri": "https://localhost:8080/",
          "height": 51
        },
        "outputId": "3be963cd-6736-4f0f-a937-7b6408f5a740"
      },
      "source": [
        "with codecs.open(\"/content/drive/My Drive/Colab Notebooks/北海道郵便番号to振興局.csv\", 'r', 'utf-8', 'ignore') as f:\n",
        "  lines2 = f.readlines()\n",
        "\n",
        "zip_shin = {}\n",
        "for line2 in lines2[1:]:\n",
        "  items = line2.rstrip().split(\",\")\n",
        "  zip_code = str(items[2])\n",
        "  shin = items[12]\n",
        "  zip_shin[zip_code]=shin\n",
        "\n",
        "shinko_dic = {\"0\":0, \"1\":0, \"2\":0, \"3\":0, \"4\":0, \"5\":0, \"6\":0, \"7\":0, \"8\":0, \"9\":0, \"10\":0, \"11\":0, \"12\":0, \"13\":0, \"14\":0}\n",
        "\n",
        "error = []\n",
        "for Ua in UUIDand:\n",
        "  line_zip = uuid_all[Ua]\n",
        "  if line_zip == \"0608588\" or line_zip == '650010' or line_zip == \"0640032\" or line_zip == '0630805':\n",
        "    value = \"0\"\n",
        "  elif line_zip == \"0788510\":\n",
        "    value = \"7\"\n",
        "  else:\n",
        "    try:\n",
        "      value = zip_shin[line_zip]  \n",
        "    except:\n",
        "      error.append(line_zip)\n",
        "      continue\n",
        "  shinko_dic[value] += 1\n",
        "\n",
        "print(shinko_dic)\n",
        "print(len(list(set(error))),list(set(error)))"
      ],
      "execution_count": 38,
      "outputs": [
        {
          "output_type": "stream",
          "text": [
            "{'0': 82, '1': 11, '2': 11, '3': 2, '4': 15, '5': 3, '6': 11, '7': 11, '8': 3, '9': 0, '10': 4, '11': 5, '12': 9, '13': 7, '14': 1}\n",
            "4 ['0000000', '0640934', '0800533', 'nan']\n"
          ],
          "name": "stdout"
        }
      ]
    },
    {
      "cell_type": "code",
      "metadata": {
        "id": "wRIX0VbNfFbs",
        "colab_type": "code",
        "colab": {
          "base_uri": "https://localhost:8080/",
          "height": 154,
          "referenced_widgets": [
            "a21661a1b2524d9a8200d7ec54e058cc",
            "5e00e022f9b74615b19017f0d5031ca5",
            "041c454b51904cfe92fe3213fff8d570",
            "c4ffe0bfd3f847ada756255f961c9fde",
            "600dba08e22b4a9ea6c6f1e1c974cfda",
            "427170ec2cce431081439a751654310f",
            "3c9d27cd8a4b474aa7a8e32dfdbdaf29",
            "96afd863cd774a63aa8ee578e87a1def"
          ]
        },
        "outputId": "89b15694-6768-4404-8c55-d6dd66d208f5"
      },
      "source": [
        "JOREN = {\"00000001\":0,\"00000010\":0,\"00000011\":0,\"00000100\":0,\"00000101\":0,\"00000110\":0,\"00000111\":0,\"00001000\":0,\"00001001\":0,\"00001010\":0,\"00001011\":0,\"00001100\":0,\"00001101\":0,\"00001110\":0,\"00001111\":0,\"00010000\":0,\"00010001\":0,\"00010010\":0,\"00010011\":0,\"00010100\":0,\"00010101\":0,\"00010110\":0,\"00010111\":0,\"00011000\":0,\"00011001\":0,\"00011010\":0,\"00011011\":0,\"00011100\":0,\"00011101\":0,\"00011110\":0,\"00011111\":0,\"00100000\":0,\"00100001\":0,\"00100010\":0,\"00100011\":0,\"00100100\":0,\"00100101\":0,\"00100110\":0,\"00100111\":0,\"00101000\":0,\"00101001\":0,\"00101010\":0,\"00101011\":0,\"00101100\":0,\"00101101\":0,\"00101110\":0,\"00101111\":0,\"00110000\":0,\"00110001\":0,\"00110010\":0,\"00110011\":0,\"00110100\":0,\"00110101\":0,\"00110110\":0,\"00110111\":0,\"00111000\":0,\"00111001\":0,\"00111010\":0,\"00111011\":0,\"00111100\":0,\"00111101\":0,\"00111110\":0,\"00111111\":0,\"01000000\":0,\"01000001\":0,\"01000010\":0,\"01000011\":0,\"01000100\":0,\"01000101\":0,\"01000110\":0,\"01000111\":0,\"01001000\":0,\"01001001\":0,\"01001010\":0,\"01001011\":0,\"01001100\":0,\"01001101\":0,\"01001110\":0,\"01001111\":0,\"01010000\":0,\"01010001\":0,\"01010010\":0,\"01010011\":0,\"01010100\":0,\"01010101\":0,\"01010110\":0,\"01010111\":0,\"01011000\":0,\"01011001\":0,\"01011010\":0,\"01011011\":0,\"01011100\":0,\"01011101\":0,\"01011110\":0,\"01011111\":0,\"01100000\":0,\"01100001\":0,\"01100010\":0,\"01100011\":0,\"01100100\":0,\"01100101\":0,\"01100110\":0,\"01100111\":0,\"01101000\":0,\"01101001\":0,\"01101010\":0,\"01101011\":0,\"01101100\":0,\"01101101\":0,\"01101110\":0,\"01101111\":0,\"01110000\":0,\"01110001\":0,\"01110010\":0,\"01110011\":0,\"01110100\":0,\"01110101\":0,\"01110110\":0,\"01110111\":0,\"01111000\":0,\"01111001\":0,\"01111010\":0,\"01111011\":0,\"01111100\":0,\"01111101\":0,\"01111110\":0,\"01111111\":0,\"10000000\":0,\"10000001\":0,\"10000010\":0,\"10000011\":0,\"10000100\":0,\"10000101\":0,\"10000110\":0,\"10000111\":0,\"10001000\":0,\"10001001\":0,\"10001010\":0,\"10001011\":0,\"10001100\":0,\"10001101\":0,\"10001110\":0,\"10001111\":0,\"10010000\":0,\"10010001\":0,\"10010010\":0,\"10010011\":0,\"10010100\":0,\"10010101\":0,\"10010110\":0,\"10010111\":0,\"10011000\":0,\"10011001\":0,\"10011010\":0,\"10011011\":0,\"10011100\":0,\"10011101\":0,\"10011110\":0,\"10011111\":0,\"10100000\":0,\"10100001\":0,\"10100010\":0,\"10100011\":0,\"10100100\":0,\"10100101\":0,\"10100110\":0,\"10100111\":0,\"10101000\":0,\"10101001\":0,\"10101010\":0,\"10101011\":0,\"10101100\":0,\"10101101\":0,\"10101110\":0,\"10101111\":0,\"10110000\":0,\"10110001\":0,\"10110010\":0,\"10110011\":0,\"10110100\":0,\"10110101\":0,\"10110110\":0,\"10110111\":0,\"10111000\":0,\"10111001\":0,\"10111010\":0,\"10111011\":0,\"10111100\":0,\"10111101\":0,\"10111110\":0,\"10111111\":0,\"11000000\":0,\"11000001\":0,\"11000010\":0,\"11000011\":0,\"11000100\":0,\"11000101\":0,\"11000110\":0,\"11000111\":0,\"11001000\":0,\"11001001\":0,\"11001010\":0,\"11001011\":0,\"11001100\":0,\"11001101\":0,\"11001110\":0,\"11001111\":0,\"11010000\":0,\"11010001\":0,\"11010010\":0,\"11010011\":0,\"11010100\":0,\"11010101\":0,\"11010110\":0,\"11010111\":0,\"11011000\":0,\"11011001\":0,\"11011010\":0,\"11011011\":0,\"11011100\":0,\"11011101\":0,\"11011110\":0,\"11011111\":0,\"11100000\":0,\"11100001\":0,\"11100010\":0,\"11100011\":0,\"11100100\":0,\"11100101\":0,\"11100110\":0,\"11100111\":0,\"11101000\":0,\"11101001\":0,\"11101010\":0,\"11101011\":0,\"11101100\":0,\"11101101\":0,\"11101110\":0,\"11101111\":0,\"11110000\":0,\"11110001\":0,\"11110010\":0,\"11110011\":0,\"11110100\":0,\"11110101\":0,\"11110110\":0,\"11110111\":0,\"11111000\":0,\"11111001\":0,\"11111010\":0,\"11111011\":0,\"11111100\":0,\"11111101\":0,\"11111110\":0,\"11111111\":0}\n",
        "\n",
        "for k,v in tqdm(uuid_all.items(), desc = 'main'):\n",
        "  counter = \"\"\n",
        "\n",
        "  if k in UUID4:\n",
        "    counter += \"1\"\n",
        "  else:\n",
        "    counter += \"0\"\n",
        "\n",
        "  if k in UUID5:\n",
        "    counter += \"1\"\n",
        "  else:\n",
        "    counter += \"0\"\n",
        "\n",
        "  if k in UUID6:\n",
        "    counter += \"1\"\n",
        "  else:\n",
        "    counter += \"0\"\n",
        "\n",
        "  if k in UUID7:\n",
        "    counter += \"1\"\n",
        "  else:\n",
        "    counter += \"0\"\n",
        "\n",
        "  if k in UUID8:\n",
        "    counter += \"1\"\n",
        "  else:\n",
        "    counter += \"0\"\n",
        "\n",
        "  if k in UUID9:\n",
        "    counter += \"1\"\n",
        "  else:\n",
        "    counter += \"0\"\n",
        "\n",
        "  if k in UUID10:\n",
        "    counter += \"1\"\n",
        "  else:\n",
        "    counter += \"0\"\n",
        "\n",
        "  if k in UUID11:\n",
        "    counter += \"1\"\n",
        "  else:\n",
        "    counter += \"0\"\n",
        "\n",
        "  #print(counter)\n",
        "  JOREN[counter] += 1\n",
        "\n",
        "\n",
        "print(JOREN)\n"
      ],
      "execution_count": 31,
      "outputs": [
        {
          "output_type": "stream",
          "text": [
            "/usr/local/lib/python3.6/dist-packages/ipykernel_launcher.py:3: TqdmDeprecationWarning: This function will be removed in tqdm==5.0.0\n",
            "Please use `tqdm.notebook.tqdm` instead of `tqdm.tqdm_notebook`\n",
            "  This is separate from the ipykernel package so we can avoid doing imports until\n"
          ],
          "name": "stderr"
        },
        {
          "output_type": "display_data",
          "data": {
            "application/vnd.jupyter.widget-view+json": {
              "model_id": "a21661a1b2524d9a8200d7ec54e058cc",
              "version_minor": 0,
              "version_major": 2
            },
            "text/plain": [
              "HBox(children=(FloatProgress(value=0.0, description='main', max=136541.0, style=ProgressStyle(description_widt…"
            ]
          },
          "metadata": {
            "tags": []
          }
        },
        {
          "output_type": "stream",
          "text": [
            "\n",
            "{'00000001': 10440, '00000010': 10552, '00000011': 1825, '00000100': 10776, '00000101': 1584, '00000110': 1614, '00000111': 624, '00001000': 6722, '00001001': 709, '00001010': 730, '00001011': 212, '00001100': 787, '00001101': 170, '00001110': 213, '00001111': 92, '00010000': 8804, '00010001': 1116, '00010010': 1144, '00010011': 410, '00010100': 1202, '00010101': 369, '00010110': 370, '00010111': 260, '00011000': 748, '00011001': 169, '00011010': 171, '00011011': 66, '00011100': 176, '00011101': 64, '00011110': 80, '00011111': 65, '00100000': 10918, '00100001': 1266, '00100010': 1359, '00100011': 435, '00100100': 1414, '00100101': 417, '00100110': 472, '00100111': 268, '00101000': 869, '00101001': 156, '00101010': 188, '00101011': 66, '00101100': 185, '00101101': 68, '00101110': 99, '00101111': 66, '00110000': 1438, '00110001': 340, '00110010': 425, '00110011': 241, '00110100': 419, '00110101': 229, '00110110': 259, '00110111': 287, '00111000': 227, '00111001': 75, '00111010': 67, '00111011': 62, '00111100': 90, '00111101': 62, '00111110': 65, '00111111': 83, '01000000': 12792, '01000001': 1304, '01000010': 1464, '01000011': 448, '01000100': 1423, '01000101': 368, '01000110': 428, '01000111': 231, '01001000': 764, '01001001': 190, '01001010': 152, '01001011': 67, '01001100': 200, '01001101': 71, '01001110': 71, '01001111': 47, '01010000': 1518, '01010001': 360, '01010010': 369, '01010011': 200, '01010100': 397, '01010101': 212, '01010110': 230, '01010111': 270, '01011000': 203, '01011001': 68, '01011010': 75, '01011011': 54, '01011100': 90, '01011101': 41, '01011110': 62, '01011111': 73, '01100000': 1926, '01100001': 456, '01100010': 472, '01100011': 257, '01100100': 496, '01100101': 230, '01100110': 260, '01100111': 280, '01101000': 216, '01101001': 67, '01101010': 92, '01101011': 43, '01101100': 80, '01101101': 43, '01101110': 57, '01101111': 91, '01110000': 608, '01110001': 240, '01110010': 271, '01110011': 283, '01110100': 275, '01110101': 244, '01110110': 281, '01110111': 720, '01111000': 107, '01111001': 62, '01111010': 43, '01111011': 60, '01111100': 74, '01111101': 59, '01111110': 79, '01111111': 164, '10000000': 6094, '10000001': 525, '10000010': 593, '10000011': 157, '10000100': 656, '10000101': 136, '10000110': 156, '10000111': 68, '10001000': 518, '10001001': 84, '10001010': 104, '10001011': 40, '10001100': 121, '10001101': 51, '10001110': 48, '10001111': 23, '10010000': 576, '10010001': 130, '10010010': 123, '10010011': 43, '10010100': 126, '10010101': 50, '10010110': 55, '10010111': 47, '10011000': 133, '10011001': 38, '10011010': 51, '10011011': 27, '10011100': 53, '10011101': 22, '10011110': 34, '10011111': 32, '10100000': 800, '10100001': 152, '10100010': 160, '10100011': 77, '10100100': 173, '10100101': 72, '10100110': 70, '10100111': 67, '10101000': 152, '10101001': 36, '10101010': 50, '10101011': 37, '10101100': 62, '10101101': 32, '10101110': 34, '10101111': 30, '10110000': 185, '10110001': 57, '10110010': 65, '10110011': 49, '10110100': 71, '10110101': 43, '10110110': 42, '10110111': 58, '10111000': 70, '10111001': 27, '10111010': 26, '10111011': 31, '10111100': 35, '10111101': 37, '10111110': 37, '10111111': 69, '11000000': 887, '11000001': 149, '11000010': 154, '11000011': 69, '11000100': 157, '11000101': 52, '11000110': 51, '11000111': 52, '11001000': 153, '11001001': 45, '11001010': 57, '11001011': 24, '11001100': 40, '11001101': 19, '11001110': 31, '11001111': 35, '11010000': 144, '11010001': 75, '11010010': 64, '11010011': 52, '11010100': 65, '11010101': 42, '11010110': 41, '11010111': 50, '11011000': 54, '11011001': 18, '11011010': 27, '11011011': 38, '11011100': 34, '11011101': 28, '11011110': 48, '11011111': 49, '11100000': 226, '11100001': 72, '11100010': 82, '11100011': 52, '11100100': 91, '11100101': 61, '11100110': 52, '11100111': 60, '11101000': 66, '11101001': 25, '11101010': 39, '11101011': 25, '11101100': 37, '11101101': 25, '11101110': 45, '11101111': 59, '11110000': 117, '11110001': 53, '11110010': 61, '11110011': 56, '11110100': 47, '11110101': 38, '11110110': 64, '11110111': 142, '11111000': 55, '11111001': 32, '11111010': 43, '11111011': 63, '11111100': 46, '11111101': 62, '11111110': 85, '11111111': 179}\n"
          ],
          "name": "stdout"
        }
      ]
    },
    {
      "cell_type": "code",
      "metadata": {
        "id": "8g-iy7OsktCN",
        "colab_type": "code",
        "colab": {}
      },
      "source": [
        "f = open('/content/drive/My Drive/Colab Notebooks/Wednesday_常連さん.csv', 'w') # 書き込みモードで開く\n",
        "for key,value in sorted(JOREN.items()):\n",
        "    f.write(f'{key},{value}\\n')\n",
        "f.close() # ファイルを"
      ],
      "execution_count": 0,
      "outputs": []
    },
    {
      "cell_type": "code",
      "metadata": {
        "id": "jF0vO0LGoSR_",
        "colab_type": "code",
        "colab": {}
      },
      "source": [
        "JOREN2 = sorted(JOREN.items(), key=lambda x:x[1], reverse=True) #数で降順ソート\n",
        "\n",
        "with open('/content/drive/My Drive/Colab Notebooks/Wednesday_常連さん_降順.csv', 'w') as f:\n",
        "  writer = csv.writer(f)\n",
        "  for row in JOREN2:\n",
        "    writer.writerow(row)\n"
      ],
      "execution_count": 0,
      "outputs": []
    },
    {
      "cell_type": "code",
      "metadata": {
        "id": "44raO8-dpS1t",
        "colab_type": "code",
        "colab": {}
      },
      "source": [
        ""
      ],
      "execution_count": 0,
      "outputs": []
    }
  ]
}