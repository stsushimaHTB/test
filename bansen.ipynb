{
  "nbformat": 4,
  "nbformat_minor": 0,
  "metadata": {
    "colab": {
      "name": "bansen.ipynb",
      "version": "0.3.2",
      "provenance": [],
      "collapsed_sections": [],
      "include_colab_link": true
    },
    "kernelspec": {
      "name": "python3",
      "display_name": "Python 3"
    }
  },
  "cells": [
    {
      "cell_type": "markdown",
      "metadata": {
        "id": "view-in-github",
        "colab_type": "text"
      },
      "source": [
        "<a href=\"https://colab.research.google.com/github/stsushimaHTB/test/blob/master/bansen.ipynb\" target=\"_parent\"><img src=\"https://colab.research.google.com/assets/colab-badge.svg\" alt=\"Open In Colab\"/></a>"
      ]
    },
    {
      "cell_type": "code",
      "metadata": {
        "id": "Q2F2AXjaLf2p",
        "colab_type": "code",
        "colab": {}
      },
      "source": [
        "with open(\"/content/drive/My Drive/edps20190301.csv\", \"r\") as file:\n",
        "  EDPS = file.readlines()\n",
        " "
      ],
      "execution_count": 0,
      "outputs": []
    },
    {
      "cell_type": "code",
      "metadata": {
        "id": "9fQZkPrcP4ui",
        "colab_type": "code",
        "outputId": "daf100af-a92b-48f5-9758-67c6ec05f6e9",
        "colab": {
          "base_uri": "https://localhost:8080/",
          "height": 55
        }
      },
      "source": [
        "EDPS[0]"
      ],
      "execution_count": 0,
      "outputs": [
        {
          "output_type": "execute_result",
          "data": {
            "text/plain": [
              "'Frame_ID,Program_Start_jst,Program_End_jst,Program_Name,EPG_Start_jst,Station_Name,Video_Source,Source_Start_jst,Source_End_jst,Length,CM_Frame_Length,remarks,CM_TK_flag,Sponsor,Source_Name,Code10,Code08,Master_Cut\\n'"
            ]
          },
          "metadata": {
            "tags": []
          },
          "execution_count": 5
        }
      ]
    },
    {
      "cell_type": "code",
      "metadata": {
        "id": "RMvBVfIxfR15",
        "colab_type": "code",
        "outputId": "570aeb7b-b77a-4005-d965-dbeac77203c0",
        "colab": {
          "base_uri": "https://localhost:8080/",
          "height": 127
        }
      },
      "source": [
        "from google.colab import drive\n",
        "drive.mount('/content/drive')"
      ],
      "execution_count": 1,
      "outputs": [
        {
          "output_type": "stream",
          "text": [
            "Go to this URL in a browser: https://accounts.google.com/o/oauth2/auth?client_id=947318989803-6bn6qk8qdgf4n4g3pfee6491hc0brc4i.apps.googleusercontent.com&redirect_uri=urn%3Aietf%3Awg%3Aoauth%3A2.0%3Aoob&scope=email%20https%3A%2F%2Fwww.googleapis.com%2Fauth%2Fdocs.test%20https%3A%2F%2Fwww.googleapis.com%2Fauth%2Fdrive%20https%3A%2F%2Fwww.googleapis.com%2Fauth%2Fdrive.photos.readonly%20https%3A%2F%2Fwww.googleapis.com%2Fauth%2Fpeopleapi.readonly&response_type=code\n",
            "\n",
            "Enter your authorization code:\n",
            "··········\n",
            "Mounted at /content/drive\n"
          ],
          "name": "stdout"
        }
      ]
    },
    {
      "cell_type": "code",
      "metadata": {
        "id": "sJD1ErAhb-Zb",
        "colab_type": "code",
        "colab": {}
      },
      "source": [
        "import pandas as pd\n",
        "edps_data  = pd.read_csv('/content/drive/My Drive/edps20190301.csv') #データフレームに変換"
      ],
      "execution_count": 0,
      "outputs": []
    },
    {
      "cell_type": "code",
      "metadata": {
        "id": "ucSBXTO1fN_1",
        "colab_type": "code",
        "colab": {}
      },
      "source": [
        "edps_data"
      ],
      "execution_count": 0,
      "outputs": []
    },
    {
      "cell_type": "code",
      "metadata": {
        "id": "xqQqCbBUcI7n",
        "colab_type": "code",
        "colab": {}
      },
      "source": [
        ""
      ],
      "execution_count": 0,
      "outputs": []
    },
    {
      "cell_type": "code",
      "metadata": {
        "id": "kSzM7DFSh6v2",
        "colab_type": "code",
        "colab": {}
      },
      "source": [
        "print(edps_data[edps_data['Source_Name'] == \"【当日】イチオシ！１部\"])"
      ],
      "execution_count": 0,
      "outputs": []
    },
    {
      "cell_type": "code",
      "metadata": {
        "id": "LEkB5f3GpFnB",
        "colab_type": "code",
        "colab": {}
      },
      "source": [
        "df = edps_data.dropna(subset=['Source_Name']) #Source_Nameが空白N/Aの行を削除"
      ],
      "execution_count": 0,
      "outputs": []
    },
    {
      "cell_type": "code",
      "metadata": {
        "id": "njYnELFK3F-2",
        "colab_type": "code",
        "colab": {}
      },
      "source": [
        "df"
      ],
      "execution_count": 0,
      "outputs": []
    },
    {
      "cell_type": "code",
      "metadata": {
        "id": "yu99ZpCencI2",
        "colab_type": "code",
        "colab": {}
      },
      "source": [
        "df2 = df[df['Source_Name'].str.contains('【当日】')] #が含まれている行を抽出"
      ],
      "execution_count": 0,
      "outputs": []
    },
    {
      "cell_type": "code",
      "metadata": {
        "id": "gw-z6HFuAaNu",
        "colab_type": "code",
        "colab": {}
      },
      "source": [
        "df3 = df2[['Source_Name','Source_Start_jst', 'Source_End_jst']] #必要な列だけ抜き出し"
      ],
      "execution_count": 0,
      "outputs": []
    },
    {
      "cell_type": "code",
      "metadata": {
        "id": "8JNPrhj171m4",
        "colab_type": "code",
        "colab": {
          "base_uri": "https://localhost:8080/",
          "height": 253
        },
        "outputId": "7d986b02-c525-4d4f-f45c-d89e45a88177"
      },
      "source": [
        "df3[\"start_time\"] = pd.to_datetime(df3[\"Source_Start_jst\"]) #時系列データに変換\n",
        "df3[\"end_time\"] = pd.to_datetime(df3[\"Source_End_jst\"])"
      ],
      "execution_count": 50,
      "outputs": [
        {
          "output_type": "stream",
          "text": [
            "/usr/local/lib/python3.6/dist-packages/ipykernel_launcher.py:1: SettingWithCopyWarning: \n",
            "A value is trying to be set on a copy of a slice from a DataFrame.\n",
            "Try using .loc[row_indexer,col_indexer] = value instead\n",
            "\n",
            "See the caveats in the documentation: http://pandas.pydata.org/pandas-docs/stable/indexing.html#indexing-view-versus-copy\n",
            "  \"\"\"Entry point for launching an IPython kernel.\n",
            "/usr/local/lib/python3.6/dist-packages/ipykernel_launcher.py:2: SettingWithCopyWarning: \n",
            "A value is trying to be set on a copy of a slice from a DataFrame.\n",
            "Try using .loc[row_indexer,col_indexer] = value instead\n",
            "\n",
            "See the caveats in the documentation: http://pandas.pydata.org/pandas-docs/stable/indexing.html#indexing-view-versus-copy\n",
            "  \n"
          ],
          "name": "stderr"
        }
      ]
    },
    {
      "cell_type": "code",
      "metadata": {
        "id": "2-9dBh3jXOq7",
        "colab_type": "code",
        "colab": {
          "base_uri": "https://localhost:8080/",
          "height": 35
        },
        "outputId": "ddbaabb3-ba26-4cd7-d3be-d1b4526c5831"
      },
      "source": [
        "df3.iat[0,3]"
      ],
      "execution_count": 62,
      "outputs": [
        {
          "output_type": "execute_result",
          "data": {
            "text/plain": [
              "Timestamp('2019-03-01 06:25:14')"
            ]
          },
          "metadata": {
            "tags": []
          },
          "execution_count": 62
        }
      ]
    },
    {
      "cell_type": "code",
      "metadata": {
        "id": "sjInDNdBGjwY",
        "colab_type": "code",
        "outputId": "0b259275-5399-4f99-fe99-6414462bc3ae",
        "colab": {
          "base_uri": "https://localhost:8080/",
          "height": 289
        }
      },
      "source": [
        "df3"
      ],
      "execution_count": 51,
      "outputs": [
        {
          "output_type": "execute_result",
          "data": {
            "text/html": [
              "<div>\n",
              "<style scoped>\n",
              "    .dataframe tbody tr th:only-of-type {\n",
              "        vertical-align: middle;\n",
              "    }\n",
              "\n",
              "    .dataframe tbody tr th {\n",
              "        vertical-align: top;\n",
              "    }\n",
              "\n",
              "    .dataframe thead th {\n",
              "        text-align: right;\n",
              "    }\n",
              "</style>\n",
              "<table border=\"1\" class=\"dataframe\">\n",
              "  <thead>\n",
              "    <tr style=\"text-align: right;\">\n",
              "      <th></th>\n",
              "      <th>Source_Name</th>\n",
              "      <th>Source_Start_jst</th>\n",
              "      <th>Source_End_jst</th>\n",
              "      <th>start_time</th>\n",
              "      <th>end_time</th>\n",
              "    </tr>\n",
              "  </thead>\n",
              "  <tbody>\n",
              "    <tr>\n",
              "      <th>78</th>\n",
              "      <td>【当日】イチオシ！３部</td>\n",
              "      <td>2019-03-01 06:25:14</td>\n",
              "      <td>2019-03-01 06:25:29</td>\n",
              "      <td>2019-03-01 06:25:14</td>\n",
              "      <td>2019-03-01 06:25:29</td>\n",
              "    </tr>\n",
              "    <tr>\n",
              "      <th>159</th>\n",
              "      <td>【当日】イチオシ！１部</td>\n",
              "      <td>2019-03-01 07:57:43</td>\n",
              "      <td>2019-03-01 07:57:58</td>\n",
              "      <td>2019-03-01 07:57:43</td>\n",
              "      <td>2019-03-01 07:57:58</td>\n",
              "    </tr>\n",
              "    <tr>\n",
              "      <th>234</th>\n",
              "      <td>【当日】イチオシ！１部</td>\n",
              "      <td>2019-03-01 09:52:40</td>\n",
              "      <td>2019-03-01 09:52:55</td>\n",
              "      <td>2019-03-01 09:52:40</td>\n",
              "      <td>2019-03-01 09:52:55</td>\n",
              "    </tr>\n",
              "    <tr>\n",
              "      <th>531</th>\n",
              "      <td>【当日】イチオシ！１部</td>\n",
              "      <td>2019-03-01 15:46:01</td>\n",
              "      <td>2019-03-01 15:46:16</td>\n",
              "      <td>2019-03-01 15:46:01</td>\n",
              "      <td>2019-03-01 15:46:16</td>\n",
              "    </tr>\n",
              "    <tr>\n",
              "      <th>666</th>\n",
              "      <td>【当日】イチオシ！３部</td>\n",
              "      <td>2019-03-01 17:36:00</td>\n",
              "      <td>2019-03-01 17:36:15</td>\n",
              "      <td>2019-03-01 17:36:00</td>\n",
              "      <td>2019-03-01 17:36:15</td>\n",
              "    </tr>\n",
              "  </tbody>\n",
              "</table>\n",
              "</div>"
            ],
            "text/plain": [
              "     Source_Name     Source_Start_jst  ...          start_time            end_time\n",
              "78   【当日】イチオシ！３部  2019-03-01 06:25:14  ... 2019-03-01 06:25:14 2019-03-01 06:25:29\n",
              "159  【当日】イチオシ！１部  2019-03-01 07:57:43  ... 2019-03-01 07:57:43 2019-03-01 07:57:58\n",
              "234  【当日】イチオシ！１部  2019-03-01 09:52:40  ... 2019-03-01 09:52:40 2019-03-01 09:52:55\n",
              "531  【当日】イチオシ！１部  2019-03-01 15:46:01  ... 2019-03-01 15:46:01 2019-03-01 15:46:16\n",
              "666  【当日】イチオシ！３部  2019-03-01 17:36:00  ... 2019-03-01 17:36:00 2019-03-01 17:36:15\n",
              "\n",
              "[5 rows x 5 columns]"
            ]
          },
          "metadata": {
            "tags": []
          },
          "execution_count": 51
        }
      ]
    },
    {
      "cell_type": "code",
      "metadata": {
        "id": "dT5i8AnMfYrL",
        "colab_type": "code",
        "colab": {}
      },
      "source": [
        "vdf  = pd.read_csv('/content/drive/My Drive/20190301.csv')"
      ],
      "execution_count": 0,
      "outputs": []
    },
    {
      "cell_type": "code",
      "metadata": {
        "id": "P5gzwSCJGlnn",
        "colab_type": "code",
        "colab": {
          "base_uri": "https://localhost:8080/",
          "height": 125
        },
        "outputId": "8fcdfe0c-56d9-48ef-e696-2990ed4ed2a6"
      },
      "source": [
        "vdf.dtypes"
      ],
      "execution_count": 7,
      "outputs": [
        {
          "output_type": "execute_result",
          "data": {
            "text/plain": [
              "unique_id       object\n",
              "time_in_jst     object\n",
              "time_out_jst    object\n",
              "tv_id           object\n",
              "post_code       object\n",
              "dtype: object"
            ]
          },
          "metadata": {
            "tags": []
          },
          "execution_count": 7
        }
      ]
    },
    {
      "cell_type": "code",
      "metadata": {
        "id": "TJ3RgXy3fiN3",
        "colab_type": "code",
        "colab": {}
      },
      "source": [
        "vdf1 = vdf[\"unique_id\"].str.split(\"_\", expand=True)[0]\n",
        "vdf2 = vdf[\"unique_id\"].str.split(\"_\", expand=True)[1]\n",
        "vdf3 = vdf[\"time_in_jst\"]\n",
        "vdf4 = vdf[\"time_out_jst\"]\n",
        "dvdf = pd.concat([vdf1, vdf2, vdf3, vdf4], axis=1) #結合"
      ],
      "execution_count": 0,
      "outputs": []
    },
    {
      "cell_type": "code",
      "metadata": {
        "id": "UM7_tk6Gf-Sn",
        "colab_type": "code",
        "colab": {}
      },
      "source": [
        "dvdf = dvdf.rename(columns={0: 'tv_id',1: 'post_code'}) #名称変更"
      ],
      "execution_count": 0,
      "outputs": []
    },
    {
      "cell_type": "code",
      "metadata": {
        "id": "4Vky9_OSgFgW",
        "colab_type": "code",
        "colab": {
          "base_uri": "https://localhost:8080/",
          "height": 107
        },
        "outputId": "bc06e36d-01c7-4398-e7c8-931b2a091c81"
      },
      "source": [
        "dvdf.dtypes"
      ],
      "execution_count": 38,
      "outputs": [
        {
          "output_type": "execute_result",
          "data": {
            "text/plain": [
              "tv_id           object\n",
              "post_code       object\n",
              "time_in_jst     object\n",
              "time_out_jst    object\n",
              "dtype: object"
            ]
          },
          "metadata": {
            "tags": []
          },
          "execution_count": 38
        }
      ]
    },
    {
      "cell_type": "code",
      "metadata": {
        "id": "BMDAGNOuf7sV",
        "colab_type": "code",
        "colab": {}
      },
      "source": [
        "dvdf[\"time_in\"] = pd.to_datetime(dvdf[\"time_in_jst\"])\n",
        "dvdf[\"time_out\"] = pd.to_datetime(dvdf[\"time_out_jst\"])"
      ],
      "execution_count": 0,
      "outputs": []
    },
    {
      "cell_type": "code",
      "metadata": {
        "id": "SbXJJy6Uf4if",
        "colab_type": "code",
        "colab": {
          "base_uri": "https://localhost:8080/",
          "height": 143
        },
        "outputId": "42c7d406-b1ef-4ae5-e063-2d75b22ec614"
      },
      "source": [
        "dvdf.dtypes"
      ],
      "execution_count": 43,
      "outputs": [
        {
          "output_type": "execute_result",
          "data": {
            "text/plain": [
              "tv_id                   object\n",
              "post_code               object\n",
              "time_in_jst             object\n",
              "time_out_jst            object\n",
              "time_in         datetime64[ns]\n",
              "time_out        datetime64[ns]\n",
              "dtype: object"
            ]
          },
          "metadata": {
            "tags": []
          },
          "execution_count": 43
        }
      ]
    },
    {
      "cell_type": "code",
      "metadata": {
        "id": "Xwx0_tcufeBg",
        "colab_type": "code",
        "colab": {
          "base_uri": "https://localhost:8080/",
          "height": 289
        },
        "outputId": "e19add16-a971-49a0-d009-14de1aa81634"
      },
      "source": [
        "dvdf[1:6]"
      ],
      "execution_count": 58,
      "outputs": [
        {
          "output_type": "execute_result",
          "data": {
            "text/html": [
              "<div>\n",
              "<style scoped>\n",
              "    .dataframe tbody tr th:only-of-type {\n",
              "        vertical-align: middle;\n",
              "    }\n",
              "\n",
              "    .dataframe tbody tr th {\n",
              "        vertical-align: top;\n",
              "    }\n",
              "\n",
              "    .dataframe thead th {\n",
              "        text-align: right;\n",
              "    }\n",
              "</style>\n",
              "<table border=\"1\" class=\"dataframe\">\n",
              "  <thead>\n",
              "    <tr style=\"text-align: right;\">\n",
              "      <th></th>\n",
              "      <th>tv_id</th>\n",
              "      <th>post_code</th>\n",
              "      <th>time_in_jst</th>\n",
              "      <th>time_out_jst</th>\n",
              "      <th>time_in</th>\n",
              "      <th>time_out</th>\n",
              "    </tr>\n",
              "  </thead>\n",
              "  <tbody>\n",
              "    <tr>\n",
              "      <th>1</th>\n",
              "      <td>00068cb9d6bf</td>\n",
              "      <td>0600005</td>\n",
              "      <td>2019-03-01 04:00:00</td>\n",
              "      <td>2019-03-01 04:00:01</td>\n",
              "      <td>2019-03-01 04:00:00</td>\n",
              "      <td>2019-03-01 04:00:01</td>\n",
              "    </tr>\n",
              "    <tr>\n",
              "      <th>2</th>\n",
              "      <td>000690da19f1</td>\n",
              "      <td>0010924</td>\n",
              "      <td>2019-03-01 04:00:00</td>\n",
              "      <td>2019-03-01 04:00:01</td>\n",
              "      <td>2019-03-01 04:00:00</td>\n",
              "      <td>2019-03-01 04:00:01</td>\n",
              "    </tr>\n",
              "    <tr>\n",
              "      <th>3</th>\n",
              "      <td>00082c522c58</td>\n",
              "      <td>0010028</td>\n",
              "      <td>2019-03-01 04:00:01</td>\n",
              "      <td>2019-03-01 04:00:06</td>\n",
              "      <td>2019-03-01 04:00:01</td>\n",
              "      <td>2019-03-01 04:00:06</td>\n",
              "    </tr>\n",
              "    <tr>\n",
              "      <th>4</th>\n",
              "      <td>0007860c14aa</td>\n",
              "      <td>0760046</td>\n",
              "      <td>2019-03-01 04:00:01</td>\n",
              "      <td>2019-03-01 04:00:01</td>\n",
              "      <td>2019-03-01 04:00:01</td>\n",
              "      <td>2019-03-01 04:00:01</td>\n",
              "    </tr>\n",
              "    <tr>\n",
              "      <th>5</th>\n",
              "      <td>000775D13E4A</td>\n",
              "      <td>0600906</td>\n",
              "      <td>2019-03-01 04:00:01</td>\n",
              "      <td>2019-03-01 04:00:01</td>\n",
              "      <td>2019-03-01 04:00:01</td>\n",
              "      <td>2019-03-01 04:00:01</td>\n",
              "    </tr>\n",
              "  </tbody>\n",
              "</table>\n",
              "</div>"
            ],
            "text/plain": [
              "          tv_id post_code  ...             time_in            time_out\n",
              "1  00068cb9d6bf   0600005  ... 2019-03-01 04:00:00 2019-03-01 04:00:01\n",
              "2  000690da19f1   0010924  ... 2019-03-01 04:00:00 2019-03-01 04:00:01\n",
              "3  00082c522c58   0010028  ... 2019-03-01 04:00:01 2019-03-01 04:00:06\n",
              "4  0007860c14aa   0760046  ... 2019-03-01 04:00:01 2019-03-01 04:00:01\n",
              "5  000775D13E4A   0600906  ... 2019-03-01 04:00:01 2019-03-01 04:00:01\n",
              "\n",
              "[5 rows x 6 columns]"
            ]
          },
          "metadata": {
            "tags": []
          },
          "execution_count": 58
        }
      ]
    },
    {
      "cell_type": "code",
      "metadata": {
        "id": "rwEE7mHffWrl",
        "colab_type": "code",
        "colab": {
          "base_uri": "https://localhost:8080/",
          "height": 35
        },
        "outputId": "100489b8-7586-433f-b993-7c9024d71656"
      },
      "source": [
        "print (dvdf.iat[3,4],dvdf.iat[3,5]) #視聴データ"
      ],
      "execution_count": 60,
      "outputs": [
        {
          "output_type": "stream",
          "text": [
            "2019-03-01 04:00:01 2019-03-01 04:00:06\n"
          ],
          "name": "stdout"
        }
      ]
    },
    {
      "cell_type": "code",
      "metadata": {
        "id": "Ey6qTvErF9nx",
        "colab_type": "code",
        "colab": {
          "base_uri": "https://localhost:8080/",
          "height": 35
        },
        "outputId": "088e3daa-0e4c-43d6-a983-7a5ebef0dc4b"
      },
      "source": [
        "print (df3.iat[0,3], df3.iat[0,4]) #番宣（EDPS）#0,4：イチオシ３部　1,2,3：イチオシ１部"
      ],
      "execution_count": 63,
      "outputs": [
        {
          "output_type": "stream",
          "text": [
            "2019-03-01 06:25:14 2019-03-01 06:25:29\n"
          ],
          "name": "stdout"
        }
      ]
    },
    {
      "cell_type": "code",
      "metadata": {
        "id": "gPzAJnz5F4cP",
        "colab_type": "code",
        "colab": {
          "base_uri": "https://localhost:8080/",
          "height": 35
        },
        "outputId": "44e8b9a2-f7d5-4480-d796-4c42d3ffc4a1"
      },
      "source": [
        "if dvdf.iat[3,4]>df3.iat[0,3]:\n",
        "  print(\"データ大なり\")\n",
        "elif dvdf.iat[3,4]==df3.iat[0,3]:\n",
        "  print(\"イコール\")\n",
        "else:\n",
        "  print(\"EDPS大なり\")"
      ],
      "execution_count": 65,
      "outputs": [
        {
          "output_type": "stream",
          "text": [
            "EDPS大なり\n"
          ],
          "name": "stdout"
        }
      ]
    },
    {
      "cell_type": "code",
      "metadata": {
        "id": "FCZnOWd4BiV-",
        "colab_type": "code",
        "colab": {}
      },
      "source": [
        "start = df3.iat[0,3] #番宣はじまる時間\n",
        "end = df3.iat[0,4] #番宣終わる時間\n",
        "\n",
        "saw = []\n",
        "\n",
        "for index, row in dvdf.iterrows(): #一行ずつ、インデックス名（行名）とその行データのタプルを取得\n",
        "  #print(row[\"time_in\"],row[\"time_out\"])\n",
        "  if row[\"time_in\"]<start and end<row[\"time_out\"]:\n",
        "    print(\"見てた！\")\n",
        "    saw.append(row[\"tv_id\"])\n",
        "  elif row[\"time_in\"]<start and start<row[\"time_out\"] and row[\"time_out\"]<end:\n",
        "    print(\"見てた！！\")\n",
        "    saw.append(row[\"tv_id\"])\n",
        "  elif start<row[\"time_in\"] and row[\"time_out\"]<end:\n",
        "    print(\"見てた！！！\")\n",
        "    saw.append(row[\"tv_id\"])\n",
        "  elif start<row[\"time_in\"] and row[\"time_in\"]<end and end<row[\"time_out\"]:\n",
        "    print(\"見てた！！！！\")\n",
        "    saw.append(row[\"tv_id\"])\n",
        "  else:\n",
        "    continue"
      ],
      "execution_count": 0,
      "outputs": []
    },
    {
      "cell_type": "code",
      "metadata": {
        "id": "b64EgT5cBcav",
        "colab_type": "code",
        "colab": {
          "base_uri": "https://localhost:8080/",
          "height": 35
        },
        "outputId": "0a204bce-dcbd-411d-eab8-f6bb25461f96"
      },
      "source": [
        "print(len(saw))"
      ],
      "execution_count": 73,
      "outputs": [
        {
          "output_type": "stream",
          "text": [
            "17499\n"
          ],
          "name": "stdout"
        }
      ]
    },
    {
      "cell_type": "code",
      "metadata": {
        "id": "Bjmct8RAAjgL",
        "colab_type": "code",
        "colab": {}
      },
      "source": [
        ""
      ],
      "execution_count": 0,
      "outputs": []
    },
    {
      "cell_type": "code",
      "metadata": {
        "id": "MFjpYm-IARTx",
        "colab_type": "code",
        "colab": {}
      },
      "source": [
        ""
      ],
      "execution_count": 0,
      "outputs": []
    },
    {
      "cell_type": "code",
      "metadata": {
        "id": "MltLq0pjAFj0",
        "colab_type": "code",
        "colab": {}
      },
      "source": [
        ""
      ],
      "execution_count": 0,
      "outputs": []
    },
    {
      "cell_type": "code",
      "metadata": {
        "id": "B2bgb8QZ_-FR",
        "colab_type": "code",
        "colab": {}
      },
      "source": [
        ""
      ],
      "execution_count": 0,
      "outputs": []
    },
    {
      "cell_type": "code",
      "metadata": {
        "id": "ymL8fQDC_bj8",
        "colab_type": "code",
        "colab": {}
      },
      "source": [
        ""
      ],
      "execution_count": 0,
      "outputs": []
    },
    {
      "cell_type": "code",
      "metadata": {
        "id": "Yc9AkpC6_U69",
        "colab_type": "code",
        "colab": {}
      },
      "source": [
        ""
      ],
      "execution_count": 0,
      "outputs": []
    },
    {
      "cell_type": "code",
      "metadata": {
        "id": "Oplvsgvr_SVs",
        "colab_type": "code",
        "colab": {}
      },
      "source": [
        ""
      ],
      "execution_count": 0,
      "outputs": []
    },
    {
      "cell_type": "code",
      "metadata": {
        "id": "iNM0z27r6hSk",
        "colab_type": "code",
        "colab": {}
      },
      "source": [
        ""
      ],
      "execution_count": 0,
      "outputs": []
    },
    {
      "cell_type": "code",
      "metadata": {
        "id": "UzOh7PAj6XpY",
        "colab_type": "code",
        "colab": {}
      },
      "source": [
        ""
      ],
      "execution_count": 0,
      "outputs": []
    },
    {
      "cell_type": "code",
      "metadata": {
        "id": "2C_R72gc5_zb",
        "colab_type": "code",
        "colab": {}
      },
      "source": [
        ""
      ],
      "execution_count": 0,
      "outputs": []
    },
    {
      "cell_type": "code",
      "metadata": {
        "id": "Sr2e3fjh5_7T",
        "colab_type": "code",
        "colab": {}
      },
      "source": [
        ""
      ],
      "execution_count": 0,
      "outputs": []
    },
    {
      "cell_type": "code",
      "metadata": {
        "id": "ZZ8PwVD65_-p",
        "colab_type": "code",
        "colab": {}
      },
      "source": [
        ""
      ],
      "execution_count": 0,
      "outputs": []
    },
    {
      "cell_type": "code",
      "metadata": {
        "id": "fkhuj7Ua59ql",
        "colab_type": "code",
        "colab": {}
      },
      "source": [
        ""
      ],
      "execution_count": 0,
      "outputs": []
    },
    {
      "cell_type": "code",
      "metadata": {
        "id": "JDDuRE5i55pf",
        "colab_type": "code",
        "colab": {}
      },
      "source": [
        ""
      ],
      "execution_count": 0,
      "outputs": []
    },
    {
      "cell_type": "code",
      "metadata": {
        "id": "uqtUG77b522w",
        "colab_type": "code",
        "colab": {}
      },
      "source": [
        ""
      ],
      "execution_count": 0,
      "outputs": []
    },
    {
      "cell_type": "code",
      "metadata": {
        "id": "yfamH_Mk3KQ5",
        "colab_type": "code",
        "colab": {}
      },
      "source": [
        ""
      ],
      "execution_count": 0,
      "outputs": []
    },
    {
      "cell_type": "code",
      "metadata": {
        "id": "RYQtn-Kmtihy",
        "colab_type": "code",
        "colab": {}
      },
      "source": [
        ""
      ],
      "execution_count": 0,
      "outputs": []
    },
    {
      "cell_type": "code",
      "metadata": {
        "id": "z7JKmnSuta41",
        "colab_type": "code",
        "colab": {}
      },
      "source": [
        ""
      ],
      "execution_count": 0,
      "outputs": []
    },
    {
      "cell_type": "code",
      "metadata": {
        "id": "CpWJo8t0rvKT",
        "colab_type": "code",
        "colab": {}
      },
      "source": [
        ""
      ],
      "execution_count": 0,
      "outputs": []
    },
    {
      "cell_type": "code",
      "metadata": {
        "id": "FeGAYBD-rcZ3",
        "colab_type": "code",
        "colab": {}
      },
      "source": [
        ""
      ],
      "execution_count": 0,
      "outputs": []
    },
    {
      "cell_type": "code",
      "metadata": {
        "id": "XyMQM4ZOfDEk",
        "colab_type": "code",
        "colab": {}
      },
      "source": [
        ""
      ],
      "execution_count": 0,
      "outputs": []
    },
    {
      "cell_type": "code",
      "metadata": {
        "id": "94ACGaV1irrS",
        "colab_type": "code",
        "colab": {}
      },
      "source": [
        ""
      ],
      "execution_count": 0,
      "outputs": []
    },
    {
      "cell_type": "code",
      "metadata": {
        "id": "_Hox64DyfRJf",
        "colab_type": "code",
        "colab": {}
      },
      "source": [
        ""
      ],
      "execution_count": 0,
      "outputs": []
    },
    {
      "cell_type": "code",
      "metadata": {
        "id": "9Hqz40WqfKPb",
        "colab_type": "code",
        "colab": {}
      },
      "source": [
        ""
      ],
      "execution_count": 0,
      "outputs": []
    },
    {
      "cell_type": "code",
      "metadata": {
        "id": "AV5Kt5brPqeR",
        "colab_type": "code",
        "colab": {}
      },
      "source": [
        ""
      ],
      "execution_count": 0,
      "outputs": []
    }
  ]
}