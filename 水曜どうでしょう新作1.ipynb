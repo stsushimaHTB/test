{
  "nbformat": 4,
  "nbformat_minor": 0,
  "metadata": {
    "colab": {
      "name": "水曜どうでしょう新作1.ipynb",
      "provenance": [],
      "collapsed_sections": [],
      "mount_file_id": "1bRuhvyEPmfenEraoD0NMMgeWlNygU70e",
      "authorship_tag": "ABX9TyOFCSxlMOKNzzHPwD2MQScY",
      "include_colab_link": true
    },
    "kernelspec": {
      "name": "python3",
      "display_name": "Python 3"
    }
  },
  "cells": [
    {
      "cell_type": "markdown",
      "metadata": {
        "id": "view-in-github",
        "colab_type": "text"
      },
      "source": [
        "<a href=\"https://colab.research.google.com/github/stsushimaHTB/test/blob/master/%E6%B0%B4%E6%9B%9C%E3%81%A9%E3%81%86%E3%81%A7%E3%81%97%E3%82%87%E3%81%86%E6%96%B0%E4%BD%9C1.ipynb\" target=\"_parent\"><img src=\"https://colab.research.google.com/assets/colab-badge.svg\" alt=\"Open In Colab\"/></a>"
      ]
    },
    {
      "cell_type": "markdown",
      "metadata": {
        "id": "tmIddan2ZcsB",
        "colab_type": "text"
      },
      "source": [
        "各話ごとに視聴データログを分割してファイルに保存"
      ]
    },
    {
      "cell_type": "code",
      "metadata": {
        "id": "WVXW9N6PgzPC",
        "colab_type": "code",
        "colab": {}
      },
      "source": [
        "%matplotlib inline\n",
        "from pandas import Series, DataFrame\n",
        "import pandas as pd\n",
        "import numpy as np\n",
        "import matplotlib.pyplot as plt\n",
        "from datetime import datetime as dt\n",
        "import csv\n",
        "import re"
      ],
      "execution_count": 0,
      "outputs": []
    },
    {
      "cell_type": "code",
      "metadata": {
        "id": "Ssu4vQQTSgWG",
        "colab_type": "code",
        "colab": {}
      },
      "source": [
        "def slice_datetime(s):\n",
        "    try:\n",
        "      m = re.match('(\\d{4})-(\\d{2})-(\\d{2}) (\\d{2}):(\\d{2}):(\\d{2})', s)\n",
        "      if m:\n",
        "          return m.group(1, 2, 3, 4, 5, 6)\n",
        "      else:\n",
        "          return [-1] * 6\n",
        "    except:\n",
        "      return [-10]*6"
      ],
      "execution_count": 0,
      "outputs": []
    },
    {
      "cell_type": "markdown",
      "metadata": {
        "id": "CD4Bar_UhDQg",
        "colab_type": "text"
      },
      "source": [
        "水曜どうでしょうの時間"
      ]
    },
    {
      "cell_type": "code",
      "metadata": {
        "id": "G27t3mRQhRlR",
        "colab_type": "code",
        "colab": {}
      },
      "source": [
        "wednesday4_start = dt(2020, 1, 22, 23, 15)\n",
        "wednesday4_end = dt(2020, 1, 22, 23, 45)\n",
        "wednesday5_start = dt(2020, 1, 29, 23, 15)\n",
        "wednesday5_end = dt(2020, 1, 29, 23, 45)\n",
        "wednesday6_start = dt(2020, 2, 5, 23, 15)\n",
        "wednesday6_end = dt(2020, 2, 5, 23, 45)\n",
        "wednesday7_start = dt(2020, 2, 12, 23, 15)\n",
        "wednesday7_end = dt(2020, 2, 12, 23, 45)\n",
        "wednesday8_start = dt(2020, 2, 19, 23, 15)\n",
        "wednesday8_end = dt(2020, 2, 19, 23, 45)\n",
        "wednesday9_start = dt(2020, 2, 26, 23, 15)\n",
        "wednesday9_end = dt(2020, 2, 26, 23, 45)\n",
        "wednesday10_start = dt(2020, 3, 4, 23, 15)\n",
        "wednesday10_end = dt(2020, 3, 4, 23, 45)\n",
        "wednesday11_start = dt(2020, 3, 11, 23, 15)\n",
        "wednesday11_end = dt(2020, 3, 11, 23, 45)\n",
        "\n",
        "Wed4=[]\n",
        "Wed5=[]\n",
        "Wed6=[]\n",
        "Wed7=[]\n",
        "Wed8=[]\n",
        "Wed9=[]\n",
        "Wed10=[]\n",
        "Wed11=[]"
      ],
      "execution_count": 0,
      "outputs": []
    },
    {
      "cell_type": "markdown",
      "metadata": {
        "id": "_gSnGQzog73Q",
        "colab_type": "text"
      },
      "source": [
        "視聴データ取り込み"
      ]
    },
    {
      "cell_type": "code",
      "metadata": {
        "id": "zVibSMxtvb3Z",
        "colab_type": "code",
        "colab": {}
      },
      "source": [
        "with open('/content/drive/My Drive/Colab Notebooks/viewlog_hw_202001to202002.csv') as f:\n",
        "  lines = f.readlines()\n",
        "  header = lines[0]"
      ],
      "execution_count": 0,
      "outputs": []
    },
    {
      "cell_type": "code",
      "metadata": {
        "id": "wc4gP_mmGIsl",
        "colab_type": "code",
        "outputId": "d8a98d4f-d995-4dfd-f033-bf6b69b10674",
        "colab": {
          "base_uri": "https://localhost:8080/",
          "height": 54
        }
      },
      "source": [
        "line = lines[2]\n",
        "items = line.split(\",\")\n",
        "print(items)"
      ],
      "execution_count": 0,
      "outputs": [
        {
          "output_type": "stream",
          "text": [
            "['1', '62bd5c9b-7863-423f-815a-cd352b61bedb', '2020-01-22 23:14:31', '2020-01-22 23:43:30', '0640823', '1', '60.59.77.7', 'PANAIBROWSER', '2020-01-24 16:54:02', '19', '|2020-01-22T23:14:31|2020-01-22T23:43:30|50|0|0||1|2020-01-24T16:54:02|7fb4|19|PANAIBROWSER|62bd5c9b-7863-423f-815a-cd352b61bedb|1|HTB\\n']\n"
          ],
          "name": "stdout"
        }
      ]
    },
    {
      "cell_type": "code",
      "metadata": {
        "id": "FoJEM3fRg_-q",
        "colab_type": "code",
        "outputId": "b5169eb0-d241-4ac0-82dc-d7e65bfe67ed",
        "colab": {
          "base_uri": "https://localhost:8080/",
          "height": 177
        }
      },
      "source": [
        "id = []\n",
        "counter = 0\n",
        "for line in lines[1:]:\n",
        " \n",
        "  row = line.split(\",\")\n",
        "\n",
        "\n",
        "  try:\n",
        "    datetime_in = dt.strptime(row[2], '%Y-%m-%d %H:%M:%S')\n",
        "    datetime_out = dt.strptime(row[3], '%Y-%m-%d %H:%M:%S')\n",
        "  except:    \n",
        "    if \"950331c8-0b02-4f05-a40d-9dfaa7897f9d\" in line:\n",
        "      print(\"except id いるよ\",row[2],row[3])\n",
        "    \n",
        "    yyyy, mm, dd, HH, MM, SS = slice_datetime(row[2])\n",
        "    print(row[2], yyyy, mm, dd, HH, MM, SS)\n",
        "    \n",
        "    yyyy, mm, dd, HH, MM, SS = slice_datetime(row[3])\n",
        "    print(row[3], yyyy, mm, dd, HH, MM, SS)\n",
        "    \n",
        "\n",
        "    continue\n",
        "  \n",
        "  if datetime_in > datetime_out: #時刻逆転起きてて変なやつを無視\n",
        "    #print(datetime_in,datetime_out)  \n",
        "    continue\n",
        "\n",
        "  #if row[1]== 'None' or row[1] == \"no id\": \n",
        "  #  continue\n",
        "\n",
        "  if \"950331c8-0b02-4f05-a40d-9dfaa7897f9d\" in line:\n",
        "    print(\"id いるよ\",row[2],row[3])\n",
        "    counter += 1\n",
        "\n",
        "  #水曜どうでしょう4話\n",
        "  if datetime_in < wednesday4_end and wednesday4_start < datetime_out:\n",
        "    Wed4.append(row)\n",
        "    id.append(row[1])\n",
        "  \n",
        "  #水曜どうでしょう5話\n",
        "  if datetime_in < wednesday5_end and wednesday5_start < datetime_out:\n",
        "    Wed5.append(row)\n",
        "    id.append(row[1])\n",
        "\n",
        "  #水曜どうでしょう6話\n",
        "  if datetime_in < wednesday6_end and wednesday6_start < datetime_out:\n",
        "    Wed6.append(row)\n",
        "    id.append(row[1])\n",
        "    if \"950331c8-0b02-4f05-a40d-9dfaa7897f9d\" == row[1]:\n",
        "      print(\"ちゃんとカウントできてるよ！\")\n",
        "\n",
        "  #水曜どうでしょう7話\n",
        "  if datetime_in < wednesday7_end and wednesday7_start < datetime_out:\n",
        "    Wed7.append(row)\n",
        "    id.append(row[1])\n",
        "\n",
        "  #水曜どうでしょう8話\n",
        "  if datetime_in < wednesday8_end and wednesday4_start < datetime_out:\n",
        "    Wed8.append(row)\n",
        "    id.append(row[1])\n",
        "\n",
        "  #水曜どうでしょう9話\n",
        "  if datetime_in < wednesday9_end and wednesday9_start < datetime_out:\n",
        "    Wed9.append(row)\n",
        "    id.append(row[1])\n",
        "\n",
        "  #水曜どうでしょう10話\n",
        "  if datetime_in < wednesday10_end and wednesday10_start < datetime_out:\n",
        "    Wed10.append(row)\n",
        "    id.append(row[1])\n",
        "\n",
        "  #水曜どうでしょう11話\n",
        "  if datetime_in < wednesday11_end and wednesday11_start < datetime_out:\n",
        "    Wed11.append(row)\n",
        "    id.append(row[1])"
      ],
      "execution_count": 0,
      "outputs": [
        {
          "output_type": "stream",
          "text": [
            "id いるよ 2020-01-22 23:14:27 2020-01-22 23:43:26\n",
            "id いるよ 2020-01-31 05:59:28 2020-01-31 07:34:43\n",
            "id いるよ 2020-02-03 06:58:35 2020-02-03 06:58:55\n",
            "id いるよ 2020-02-05 23:14:18 2020-02-05 23:43:15\n",
            "ちゃんとカウントできてるよ！\n",
            "id いるよ 2020-02-10 05:59:24 2020-02-10 05:59:24\n",
            "id いるよ 2020-02-10 06:58:44 2020-02-10 07:04:27\n",
            "id いるよ 2020-02-11 17:13:31 2020-02-11 17:13:34\n",
            "id いるよ 2020-02-12 06:59:04 2020-02-12 06:59:04\n"
          ],
          "name": "stdout"
        }
      ]
    },
    {
      "cell_type": "code",
      "metadata": {
        "id": "iK4RtpekHBzs",
        "colab_type": "code",
        "colab": {}
      },
      "source": [
        "with open('/content/drive/My Drive/Colab Notebooks/viewlog_hw_202002to202003.csv') as f:\n",
        "  lines2 = f.readlines()"
      ],
      "execution_count": 0,
      "outputs": []
    },
    {
      "cell_type": "code",
      "metadata": {
        "id": "I5lztPPCHIRh",
        "colab_type": "code",
        "outputId": "b0af0514-52ae-4596-92f5-ccbd02800ffa",
        "colab": {
          "base_uri": "https://localhost:8080/",
          "height": 1000
        }
      },
      "source": [
        "id_list = []\n",
        "for line in lines2[1:]:\n",
        "  \n",
        "  row = line.split(\",\")\n",
        "  if len(row)<10:\n",
        "    print(row)\n",
        "    continue\n",
        "\n",
        "  if \"950331c8-0b02-4f05-a40d-9dfaa7897f9d\" in line:\n",
        "    print(\"id いるよ\",row[2])\n",
        "\n",
        "  try:\n",
        "    datetime_in = dt.strptime(row[2], '%Y-%m-%d %H:%M:%S')\n",
        "    datetime_out = dt.strptime(row[3], '%Y-%m-%d %H:%M:%S')\n",
        "  except:\n",
        "    print(row)\n",
        "    yyyy, mm, dd, HH, MM, SS = slice_datetime(row[2])\n",
        "    print(row[2], yyyy, mm, dd, HH, MM, SS)\n",
        "    \n",
        "    yyyy, mm, dd, HH, MM, SS = slice_datetime(row[3])\n",
        "    print(row[3], yyyy, mm, dd, HH, MM, SS)\n",
        "    \n",
        "    continue\n",
        "  \n",
        "  if datetime_in > datetime_out: #時刻逆転起きてて変なやつを無視\n",
        "    print(datetime_in,datetime_out)  \n",
        "    continue\n",
        "\n",
        "  if row[1]== 'None' or row[1] == \"no id\": \n",
        "    continue\n",
        "\n",
        "\n",
        "  #水曜どうでしょう4話\n",
        "  if datetime_in < wednesday4_end and wednesday4_start < datetime_out:\n",
        "    Wed4.append(row)\n",
        "    id_list.append(row[1])\n",
        "  \n",
        "  #水曜どうでしょう5話\n",
        "  if datetime_in < wednesday5_end and wednesday5_start < datetime_out:\n",
        "    Wed5.append(row)\n",
        "    id_list.append(row[1])\n",
        "\n",
        "  #水曜どうでしょう6話\n",
        "  if datetime_in < wednesday6_end and wednesday6_start < datetime_out:\n",
        "    Wed6.append(row)\n",
        "    id_list.append(row[1])\n",
        "\n",
        "  #水曜どうでしょう7話\n",
        "  if datetime_in < wednesday7_end and wednesday7_start < datetime_out:\n",
        "    Wed7.append(row)\n",
        "    id_list.append(row[1])\n",
        "\n",
        "  #水曜どうでしょう8話\n",
        "  if datetime_in < wednesday8_end and wednesday4_start < datetime_out:\n",
        "    Wed8.append(row)\n",
        "    id_list.append(row[1])\n",
        "\n",
        "  #水曜どうでしょう9話\n",
        "  if datetime_in < wednesday9_end and wednesday9_start < datetime_out:\n",
        "    Wed9.append(row)\n",
        "    id_list.append(row[1])\n",
        "\n",
        "  #水曜どうでしょう10話\n",
        "  if datetime_in < wednesday10_end and wednesday10_start < datetime_out:\n",
        "    Wed10.append(row)\n",
        "    id_list.append(row[1])\n",
        "\n",
        "  #水曜どうでしょう11話\n",
        "  if datetime_in < wednesday11_end and wednesday11_start < datetime_out:\n",
        "    Wed11.append(row)\n",
        "    id_list.append(row[1])"
      ],
      "execution_count": 0,
      "outputs": [
        {
          "output_type": "stream",
          "text": [
            "2020-02-19 06:31:58 1970-01-01 09:00:00\n",
            "2020-02-19 16:34:08 2020-02-19 16:34:07\n",
            "2020-02-19 23:16:08 2020-02-19 23:15:42\n",
            "2020-02-19 23:35:13 2020-02-19 23:35:08\n",
            "2020-02-19 23:43:51 2020-02-19 23:36:43\n",
            "2020-02-20 00:00:28 2020-02-19 23:37:23\n",
            "2020-02-20 00:05:57 2020-02-19 23:42:54\n",
            "2020-02-20 07:11:32 1970-01-01 09:00:00\n",
            "2020-02-20 16:00:06 1970-01-01 09:00:00\n",
            "2020-02-20 16:21:19 1970-01-01 09:00:00\n",
            "2020-02-20 17:06:31 2020-02-20 17:06:30\n",
            "2020-02-20 17:13:04 2020-02-20 17:13:03\n",
            "2020-02-20 17:19:36 1970-01-01 09:00:00\n",
            "2020-02-20 18:51:13 2020-02-20 18:51:12\n",
            "2020-02-21 06:00:18 2020-02-21 06:00:07\n",
            "2020-02-21 07:01:33 2020-02-21 07:01:32\n",
            "['=\"\\n']\n",
            "2020-02-21 16:08:59 1970-01-01 09:00:00\n",
            "2020-02-21 16:21:13 1970-01-01 09:00:00\n",
            "2020-02-21 17:46:27 1970-01-01 09:00:00\n",
            "2020-02-22 06:36:32 1970-01-01 09:00:00\n",
            "2020-02-22 06:59:37 1970-01-01 09:00:00\n",
            "2020-02-22 07:32:12 1970-01-01 09:00:00\n",
            "2020-02-22 07:39:26 2020-02-22 07:00:00\n",
            "2020-02-24 16:02:43 2020-02-24 16:02:42\n",
            "2020-02-24 16:08:59 2020-02-24 16:08:58\n",
            "2020-02-24 16:10:29 1970-01-01 09:00:00\n",
            "2020-02-24 16:21:44 1970-01-01 09:00:00\n",
            "2020-02-24 16:26:30 1970-01-01 09:00:00\n",
            "2020-02-24 16:41:25 2020-02-24 16:29:55\n",
            "2020-02-24 16:43:33 2020-02-24 16:43:29\n",
            "2020-02-24 17:08:08 2020-02-24 17:08:04\n",
            "2020-02-24 17:11:39 2020-02-24 17:11:38\n",
            "2020-02-24 17:23:53 1970-01-01 09:00:00\n",
            "2020-02-24 17:27:26 1970-01-01 09:00:00\n",
            "2020-02-24 17:27:40 2020-02-24 17:25:36\n",
            "2020-02-24 17:57:09 1970-01-01 09:00:00\n",
            "2020-02-24 18:07:34 2020-02-24 18:07:33\n",
            "2020-02-24 18:12:34 2020-02-24 18:12:33\n",
            "2020-02-24 18:36:06 1970-01-01 09:00:00\n",
            "2020-02-24 18:42:56 2020-02-24 18:40:56\n",
            "2020-02-24 18:51:08 2020-02-24 18:51:07\n",
            "2020-02-25 06:20:47 1970-01-01 09:00:00\n",
            "2020-02-25 07:20:13 2020-02-25 07:20:12\n",
            "2020-02-25 17:26:57 1970-01-01 09:00:00\n",
            "2020-02-25 17:39:43 2020-02-25 17:39:40\n",
            "2020-02-25 18:02:50 1970-01-01 09:00:00\n",
            "2020-02-25 18:04:09 1970-01-01 09:00:00\n",
            "2020-02-25 18:04:27 1970-01-01 09:00:00\n",
            "2020-02-25 18:04:57 1970-01-01 09:00:00\n",
            "2020-02-25 18:40:13 2020-02-25 18:40:07\n",
            "2020-02-25 18:53:04 2020-02-25 18:53:03\n",
            "2020-02-25 18:54:59 1970-01-01 09:00:00\n",
            "2020-02-25 18:59:05 2020-02-25 18:59:04\n",
            "2020-02-26 06:07:13 1970-01-01 09:00:00\n",
            "2020-02-26 16:00:06 1970-01-01 09:00:00\n",
            "2020-02-26 16:21:49 2020-02-26 16:21:48\n",
            "2020-02-26 16:59:30 2020-02-26 16:51:18\n",
            "2020-02-26 17:34:31 1970-01-01 09:00:00\n",
            "2020-02-26 18:43:35 2020-02-26 18:43:34\n",
            "id いるよ 2020-02-26 23:14:02\n",
            "2020-02-26 23:15:03 1970-01-01 09:00:00\n",
            "2020-02-26 23:15:03 1970-01-01 09:00:00\n",
            "2020-02-27 00:03:53 2020-02-26 23:40:48\n",
            "2020-02-27 06:54:08 1970-01-01 09:00:00\n",
            "2020-02-27 07:50:29 2020-02-27 07:50:28\n",
            "2020-02-27 07:59:28 2020-02-27 07:59:27\n",
            "2020-02-27 16:11:49 2020-02-27 16:11:48\n",
            "2020-02-27 16:16:24 2020-02-27 16:16:23\n",
            "2020-02-27 16:25:02 1970-01-01 09:00:00\n",
            "2020-02-27 16:42:50 2020-02-27 16:20:45\n",
            "2020-02-27 17:15:25 1970-01-01 09:00:00\n",
            "2020-02-27 17:20:31 2020-02-27 17:20:30\n",
            "2020-02-27 17:26:52 2020-02-27 17:26:51\n",
            "2020-02-27 17:34:56 2020-02-27 17:34:14\n",
            "2020-02-27 17:42:24 2020-02-27 17:40:10\n",
            "2020-02-27 17:45:49 2020-02-27 17:45:48\n",
            "2020-02-27 18:14:05 2020-02-27 18:14:04\n",
            "2020-02-27 18:19:28 2020-02-27 18:19:27\n",
            "2020-02-27 18:39:39 2020-02-27 18:32:21\n",
            "2020-02-27 18:59:41 1970-01-01 09:00:00\n",
            "id いるよ 2020-02-28 06:58:47\n",
            "2020-02-28 08:00:01 2020-02-28 08:00:00\n",
            "['2102094', '\"<!DOCTYPE html>\\n']\n",
            "['<\"', '2020-02-28 15:14:16', '2020-02-28 17:37:31', 'dummy!', '1', '2404:7a83:89c0:e200:10a2:620d:eb71:8254', 'Tourbillon3', '2020-03-02 16:45:55', '12', '\"|2020-02-28T15:14:16|2020-02-28T17:37:31|50|0|0||1|2020-03-02T16:45:55|7FB4|12|Tourbillon3|<!DOCTYPE html>\\n']\n",
            "2020-02-28 17:37:31 2020 02 28 17 37 31\n",
            "dummy! -1 -1 -1 -1 -1 -1\n",
            "['<|32|HTB\"\\n']\n",
            "2020-02-28 16:07:15 2020-02-28 16:07:14\n",
            "2020-02-28 17:07:58 2020-02-28 17:07:57\n",
            "2020-02-28 17:23:23 2020-02-28 17:23:22\n",
            "2020-02-28 17:26:48 2020-02-28 17:26:47\n",
            "2020-02-28 17:41:23 2020-02-28 17:41:22\n",
            "2020-02-29 06:30:10 1970-01-01 09:00:00\n",
            "2020-02-29 07:44:36 1970-01-01 09:00:00\n",
            "2020-02-29 11:40:04 1970-01-01 09:00:00\n",
            "2020-03-02 06:28:20 2020-03-02 06:28:19\n",
            "2020-03-02 06:49:32 1970-01-01 09:00:00\n",
            "2020-03-02 16:24:05 2020-03-02 16:24:04\n",
            "2020-03-02 16:30:26 2020-03-02 16:30:25\n",
            "2020-03-02 17:33:30 2020-03-02 17:33:26\n",
            "2020-03-02 17:39:54 1970-01-01 09:00:00\n",
            "2020-03-02 18:10:16 1970-01-01 09:00:00\n",
            "2020-03-03 06:54:05 2020-03-03 06:54:04\n",
            "2020-03-03 07:05:01 1970-01-01 09:00:00\n",
            "2020-03-03 07:30:02 2020-03-03 07:30:01\n",
            "2020-03-03 16:09:08 2020-03-03 16:09:07\n",
            "2020-03-03 17:42:35 2020-03-03 17:42:26\n",
            "2020-03-03 17:52:55 2020-03-03 17:52:47\n",
            "2020-03-03 18:44:37 1970-01-01 09:00:00\n",
            "2020-03-03 18:49:52 1970-01-01 09:00:00\n",
            "2020-03-04 06:00:10 1970-01-01 09:00:00\n",
            "2020-03-04 07:07:10 2020-03-04 07:07:09\n",
            "2020-03-04 07:12:25 2020-03-04 07:12:22\n",
            "2020-03-04 16:20:18 2020-03-04 16:20:17\n",
            "2020-03-04 16:21:10 2020-03-04 16:21:01\n",
            "2020-03-04 16:33:08 1970-01-01 09:00:00\n",
            "2020-03-04 16:49:01 1970-01-01 09:00:00\n",
            "2020-03-04 16:57:01 1970-01-01 09:00:00\n",
            "2020-03-04 16:58:21 1970-01-01 09:00:00\n",
            "2020-03-04 17:23:44 1970-01-01 09:00:00\n",
            "2020-03-04 17:24:55 1970-01-01 09:00:00\n",
            "2020-03-04 17:24:59 1970-01-01 09:00:00\n",
            "2020-03-04 17:25:14 1970-01-01 09:00:00\n",
            "2020-03-04 17:34:34 1970-01-01 09:00:00\n",
            "2020-03-04 17:55:41 1970-01-01 09:00:00\n",
            "2020-03-04 18:54:46 2020-03-04 18:54:45\n",
            "2020-03-04 18:55:41 2020-03-04 18:55:40\n",
            "id いるよ 2020-03-04 23:13:57\n",
            "2020-03-04 23:15:02 1970-01-01 09:00:00\n",
            "2020-03-04 23:18:52 2020-03-04 23:18:51\n",
            "2020-03-04 23:24:31 2020-03-04 23:24:30\n",
            "2020-03-04 23:44:25 2020-03-04 23:44:01\n",
            "id いるよ 2020-03-05 06:58:38\n",
            "2020-03-05 10:07:50 2020-03-05 07:52:16\n",
            "2020-03-05 16:00:07 1970-01-01 09:00:00\n",
            "id いるよ 2020-03-05 16:21:02\n",
            "2020-03-05 16:23:47 2020-03-05 16:23:46\n",
            "2020-03-05 17:01:25 2020-03-05 17:01:22\n",
            "2020-03-05 17:13:18 1970-01-01 09:00:00\n",
            "2020-03-05 17:34:16 1970-01-01 09:00:00\n",
            "2020-03-05 17:36:27 1970-01-01 09:00:00\n",
            "2020-03-06 07:02:17 1970-01-01 09:00:00\n",
            "2020-03-06 16:00:56 1970-01-01 09:00:00\n",
            "2020-03-06 16:08:52 2020-03-06 16:00:50\n",
            "2020-03-06 16:22:43 1970-01-01 09:00:00\n",
            "2020-03-06 17:14:07 2020-03-06 17:14:06\n",
            "2020-03-06 17:19:05 2020-03-06 17:19:03\n",
            "2020-03-06 17:20:15 2020-03-06 17:20:13\n",
            "2020-03-06 17:24:35 1970-01-01 09:00:00\n",
            "2020-03-06 17:25:05 2020-03-06 17:25:04\n",
            "2020-03-07 07:11:30 1970-01-01 09:00:00\n",
            "2020-03-07 07:13:21 1970-01-01 09:00:00\n",
            "2020-03-07 07:20:28 2020-03-07 07:20:27\n",
            "2020-03-07 07:40:45 2020-03-07 07:40:43\n",
            "2020-03-07 07:42:57 1970-01-01 09:00:00\n",
            "2020-03-07 11:42:00 2020-03-07 11:41:58\n",
            "2020-03-07 11:42:00 2020-03-07 11:41:55\n",
            "2020-03-09 06:15:27 1970-01-01 09:00:00\n",
            "2020-03-09 16:17:06 2020-03-09 16:17:05\n",
            "2020-03-09 16:18:22 2020-03-09 16:18:21\n",
            "2020-03-09 16:31:22 2020-03-09 16:31:21\n",
            "2020-03-09 16:49:00 2020-03-09 16:48:53\n",
            "2020-03-09 17:26:37 1970-01-01 09:00:00\n",
            "2020-03-09 17:57:22 1970-01-01 09:00:00\n",
            "2020-03-09 18:26:22 2020-03-09 18:26:21\n",
            "2020-03-09 18:41:08 1970-01-01 09:00:00\n",
            "2020-03-09 18:44:20 1970-01-01 09:00:00\n",
            "2020-03-09 18:55:31 2020-03-09 18:55:30\n",
            "2020-03-09 18:59:56 1970-01-01 09:00:00\n",
            "2020-03-10 06:18:35 1970-01-01 09:00:00\n",
            "2020-03-10 06:46:17 2020-03-10 06:46:16\n",
            "2020-03-10 16:00:06 1970-01-01 09:00:00\n",
            "2020-03-10 16:19:55 2020-03-10 16:19:54\n",
            "2020-03-10 16:27:22 2020-03-10 16:27:21\n",
            "2020-03-10 17:00:00 2020-03-10 16:52:44\n",
            "2020-03-10 18:12:05 2020-03-10 09:08:15\n",
            "2020-03-10 18:20:00 2020-03-10 09:16:13\n",
            "2020-03-10 18:21:15 2020-03-10 09:19:25\n",
            "2020-03-10 18:54:19 1970-01-01 09:00:00\n",
            "2020-03-11 06:16:12 1970-01-01 09:00:00\n",
            "2020-03-11 16:37:08 2020-03-11 16:37:07\n",
            "2020-03-11 16:57:39 2020-03-11 16:57:38\n",
            "2020-03-11 18:30:45 2020-03-11 18:30:44\n",
            "2020-03-11 18:45:33 2020-03-11 18:16:31\n",
            "2020-03-11 18:50:08 2020-03-11 18:21:08\n",
            "id いるよ 2020-03-11 23:13:51\n",
            "2020-03-11 23:24:11 2020-03-11 23:24:10\n",
            "2020-03-11 23:28:42 2020-03-11 23:28:41\n",
            "2020-03-11 23:29:16 2020-03-11 23:29:15\n",
            "2020-03-11 23:35:17 2020-03-11 23:35:13\n",
            "2020-03-12 06:08:46 1970-01-01 09:00:00\n",
            "2020-03-12 07:16:00 2020-03-12 07:02:35\n",
            "2020-03-12 17:55:38 2020-03-12 17:55:37\n",
            "2020-03-12 18:06:12 2020-03-12 18:06:11\n",
            "2020-03-12 18:52:05 2020-03-12 18:52:04\n",
            "2020-03-13 06:05:41 2020-03-13 06:05:40\n",
            "2020-03-13 07:54:22 1970-01-01 09:00:00\n",
            "2020-03-13 16:50:55 2020-03-13 16:50:53\n",
            "2020-03-13 18:34:06 1970-01-01 09:00:00\n",
            "2020-03-13 18:56:45 2020-03-13 18:56:32\n",
            "2020-03-14 07:05:38 2020-03-14 07:05:37\n",
            "2020-03-14 07:53:16 1970-01-01 09:00:00\n",
            "2020-03-14 07:53:40 2020-03-14 07:53:39\n",
            "id いるよ 2020-03-14 07:57:02\n",
            "2020-03-14 07:58:43 1970-01-01 09:00:00\n",
            "2020-03-14 09:50:42 2020-03-14 09:50:41\n",
            "2020-03-14 11:42:25 2020-03-14 11:42:23\n",
            "2020-03-16 06:14:45 2020-03-16 06:14:44\n",
            "2020-03-16 06:36:04 2020-03-16 06:36:03\n",
            "2020-03-16 06:43:00 2020-03-16 06:42:59\n",
            "2020-03-16 07:36:37 2020-03-16 07:36:36\n",
            "2020-03-16 16:00:07 1970-01-01 09:00:00\n",
            "2020-03-16 16:04:10 1970-01-01 09:00:00\n",
            "2020-03-16 16:36:30 2020-03-16 16:36:28\n",
            "2020-03-16 17:50:26 2020-03-16 17:31:28\n",
            "2020-03-16 17:54:20 1970-01-01 09:00:00\n",
            "2020-03-16 18:16:40 2020-03-16 11:23:38\n",
            "2020-03-16 18:53:59 1970-01-01 09:00:00\n",
            "2020-03-17 07:09:42 1970-01-01 09:00:00\n",
            "2020-03-17 07:25:35 2020-03-17 07:25:14\n",
            "2020-03-17 16:49:52 2020-03-17 16:49:51\n",
            "2020-03-17 17:35:40 1970-01-01 09:00:00\n",
            "2020-03-17 17:54:55 1970-01-01 09:00:00\n",
            "2020-03-17 18:07:12 1970-01-01 09:00:00\n",
            "2020-03-17 18:17:40 2020-03-17 18:17:19\n",
            "2020-03-17 18:23:25 2020-03-17 18:23:14\n",
            "2020-03-17 18:42:18 1970-01-01 09:00:00\n",
            "2020-03-18 06:16:18 1970-01-01 09:00:00\n",
            "2020-03-18 17:41:25 2020-03-18 17:41:21\n",
            "2020-03-18 18:10:24 2020-03-18 18:10:23\n"
          ],
          "name": "stdout"
        }
      ]
    },
    {
      "cell_type": "code",
      "metadata": {
        "id": "ero6f6J5J2jJ",
        "colab_type": "code",
        "outputId": "f6b4d8f4-590f-40b7-8c26-b7f7468a34c9",
        "colab": {
          "base_uri": "https://localhost:8080/",
          "height": 35
        }
      },
      "source": [
        "print(len(id_list))"
      ],
      "execution_count": 0,
      "outputs": [
        {
          "output_type": "stream",
          "text": [
            "209426\n"
          ],
          "name": "stdout"
        }
      ]
    },
    {
      "cell_type": "code",
      "metadata": {
        "id": "SNaREqrFLAGj",
        "colab_type": "code",
        "outputId": "277269f4-b649-4631-b321-eb1359109c01",
        "colab": {
          "base_uri": "https://localhost:8080/",
          "height": 35
        }
      },
      "source": [
        "print(len(set(id_list)))"
      ],
      "execution_count": 0,
      "outputs": [
        {
          "output_type": "stream",
          "text": [
            "134246\n"
          ],
          "name": "stdout"
        }
      ]
    },
    {
      "cell_type": "code",
      "metadata": {
        "id": "Q1buzR1VJ4eo",
        "colab_type": "code",
        "outputId": "2d21c0e8-e82c-4fe1-b516-a29c96e78ac8",
        "colab": {
          "base_uri": "https://localhost:8080/",
          "height": 189
        }
      },
      "source": [
        "set(sum(id))\n",
        "print(len(id))"
      ],
      "execution_count": 0,
      "outputs": [
        {
          "output_type": "error",
          "ename": "TypeError",
          "evalue": "ignored",
          "traceback": [
            "\u001b[0;31m---------------------------------------------------------------------------\u001b[0m",
            "\u001b[0;31mTypeError\u001b[0m                                 Traceback (most recent call last)",
            "\u001b[0;32m<ipython-input-10-eca92972ae4c>\u001b[0m in \u001b[0;36m<module>\u001b[0;34m()\u001b[0m\n\u001b[0;32m----> 1\u001b[0;31m \u001b[0mset\u001b[0m\u001b[0;34m(\u001b[0m\u001b[0msum\u001b[0m\u001b[0;34m(\u001b[0m\u001b[0mid\u001b[0m\u001b[0;34m)\u001b[0m\u001b[0;34m)\u001b[0m\u001b[0;34m\u001b[0m\u001b[0;34m\u001b[0m\u001b[0m\n\u001b[0m\u001b[1;32m      2\u001b[0m \u001b[0mprint\u001b[0m\u001b[0;34m(\u001b[0m\u001b[0mlen\u001b[0m\u001b[0;34m(\u001b[0m\u001b[0mid\u001b[0m\u001b[0;34m)\u001b[0m\u001b[0;34m)\u001b[0m\u001b[0;34m\u001b[0m\u001b[0;34m\u001b[0m\u001b[0m\n",
            "\u001b[0;31mTypeError\u001b[0m: unsupported operand type(s) for +: 'int' and 'str'"
          ]
        }
      ]
    },
    {
      "cell_type": "code",
      "metadata": {
        "id": "AsL_AA6xluUJ",
        "colab_type": "code",
        "outputId": "6b58cf47-049d-4bf6-80e5-280c04223363",
        "colab": {
          "base_uri": "https://localhost:8080/",
          "height": 159
        }
      },
      "source": [
        "print(len(Wed4))\n",
        "print(len(Wed5))\n",
        "print(len(Wed6))\n",
        "print(len(Wed7))\n",
        "print(len(Wed8))\n",
        "print(len(Wed9))\n",
        "print(len(Wed10))\n",
        "print(len(Wed11))"
      ],
      "execution_count": 0,
      "outputs": [
        {
          "output_type": "stream",
          "text": [
            "19088\n",
            "48614\n",
            "46860\n",
            "40620\n",
            "6368347\n",
            "175024\n",
            "45313\n",
            "43840\n"
          ],
          "name": "stdout"
        }
      ]
    },
    {
      "cell_type": "code",
      "metadata": {
        "id": "d-sG1onLQQXm",
        "colab_type": "code",
        "colab": {}
      },
      "source": [
        "Wed4 = Wed4[1:]"
      ],
      "execution_count": 0,
      "outputs": []
    },
    {
      "cell_type": "markdown",
      "metadata": {
        "id": "t85wFzA8NeTx",
        "colab_type": "text"
      },
      "source": [
        "header追加"
      ]
    },
    {
      "cell_type": "code",
      "metadata": {
        "id": "2wjjOZMhNJ3p",
        "colab_type": "code",
        "colab": {}
      },
      "source": [
        "\n",
        "fname = \"/content/drive/My Drive/Colab Notebooks/Wed4_view_log.txt\"\n",
        "\n",
        "with open(fname, mode=\"w\") as f:\n",
        "  f.write(header)\n",
        "  for line in Wed4:\n",
        "    f.write(\",\".join(line))\n",
        "\n",
        "fname = \"/content/drive/My Drive/Colab Notebooks/Wed5_view_log.txt\"\n",
        "\n",
        "with open(fname, mode=\"w\") as f:\n",
        "  f.write(header)\n",
        "  for line in Wed5:\n",
        "    f.write(\",\".join(line))\n",
        "\n",
        "fname = \"/content/drive/My Drive/Colab Notebooks/Wed6_view_log.txt\"\n",
        "\n",
        "with open(fname, mode=\"w\") as f:\n",
        "  f.write(header)\n",
        "  for line in Wed6:\n",
        "    f.write(\",\".join(line))\n",
        "\n",
        "fname = \"/content/drive/My Drive/Colab Notebooks/Wed7_view_log.txt\"\n",
        "\n",
        "with open(fname, mode=\"w\") as f:\n",
        "  f.write(header)\n",
        "  for line in Wed7:\n",
        "    f.write(\",\".join(line))\n",
        "\n",
        "fname = \"/content/drive/My Drive/Colab Notebooks/Wed8_view_log.txt\"\n",
        "\n",
        "with open(fname, mode=\"w\") as f:\n",
        "  f.write(header)\n",
        "  for line in Wed8:\n",
        "    f.write(\",\".join(line))\n",
        "\n",
        "fname = \"/content/drive/My Drive/Colab Notebooks/Wed9_view_log.txt\"\n",
        "\n",
        "with open(fname, mode=\"w\") as f:\n",
        "  f.write(header)\n",
        "  for line in Wed9:\n",
        "    f.write(\",\".join(line))\n",
        "\n",
        "fname = \"/content/drive/My Drive/Colab Notebooks/Wed10_view_log.txt\"\n",
        "\n",
        "with open(fname, mode=\"w\") as f:\n",
        "  f.write(header)\n",
        "  for line in Wed10:\n",
        "    f.write(\",\".join(line))\n",
        "\n",
        "fname = \"/content/drive/My Drive/Colab Notebooks/Wed11_view_log.txt\"\n",
        "\n",
        "with open(fname, mode=\"w\") as f:\n",
        "  f.write(header)\n",
        "  for line in Wed11:\n",
        "    f.write(\",\".join(line))"
      ],
      "execution_count": 0,
      "outputs": []
    },
    {
      "cell_type": "code",
      "metadata": {
        "id": "w04i2sPbOQR2",
        "colab_type": "code",
        "colab": {}
      },
      "source": [
        ""
      ],
      "execution_count": 0,
      "outputs": []
    }
  ]
}