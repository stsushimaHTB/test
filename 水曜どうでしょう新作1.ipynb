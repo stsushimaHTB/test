{
  "nbformat": 4,
  "nbformat_minor": 0,
  "metadata": {
    "colab": {
      "name": "水曜どうでしょう新作1.ipynb",
      "provenance": [],
      "collapsed_sections": [],
      "mount_file_id": "1bRuhvyEPmfenEraoD0NMMgeWlNygU70e",
      "authorship_tag": "ABX9TyOCkHvEOI3OADtFq/auGnia",
      "include_colab_link": true
    },
    "kernelspec": {
      "name": "python3",
      "display_name": "Python 3"
    }
  },
  "cells": [
    {
      "cell_type": "markdown",
      "metadata": {
        "id": "view-in-github",
        "colab_type": "text"
      },
      "source": [
        "<a href=\"https://colab.research.google.com/github/stsushimaHTB/test/blob/master/%E6%B0%B4%E6%9B%9C%E3%81%A9%E3%81%86%E3%81%A7%E3%81%97%E3%82%87%E3%81%86%E6%96%B0%E4%BD%9C1.ipynb\" target=\"_parent\"><img src=\"https://colab.research.google.com/assets/colab-badge.svg\" alt=\"Open In Colab\"/></a>"
      ]
    },
    {
      "cell_type": "code",
      "metadata": {
        "id": "WVXW9N6PgzPC",
        "colab_type": "code",
        "colab": {}
      },
      "source": [
        "%matplotlib inline\n",
        "from pandas import Series, DataFrame\n",
        "import pandas as pd\n",
        "import numpy as np\n",
        "import matplotlib.pyplot as plt\n",
        "from datetime import datetime as dt\n",
        "import csv"
      ],
      "execution_count": 0,
      "outputs": []
    },
    {
      "cell_type": "markdown",
      "metadata": {
        "id": "CD4Bar_UhDQg",
        "colab_type": "text"
      },
      "source": [
        "水曜どうでしょうの時間"
      ]
    },
    {
      "cell_type": "code",
      "metadata": {
        "id": "G27t3mRQhRlR",
        "colab_type": "code",
        "colab": {}
      },
      "source": [
        "wednesday4_start = dt(2020, 1, 22, 23, 15)\n",
        "wednesday4_end = dt(2020, 1, 22, 23, 45)\n",
        "wednesday5_start = dt(2020, 1, 29, 23, 15)\n",
        "wednesday5_end = dt(2020, 1, 29, 23, 45)\n",
        "wednesday6_start = dt(2020, 2, 5, 23, 15)\n",
        "wednesday6_end = dt(2020, 2, 5, 23, 45)\n",
        "wednesday7_start = dt(2020, 2, 12, 23, 15)\n",
        "wednesday7_end = dt(2020, 2, 12, 23, 45)\n",
        "wednesday8_start = dt(2020, 2, 19, 23, 15)\n",
        "wednesday8_end = dt(2020, 2, 19, 23, 45)\n",
        "wednesday9_start = dt(2020, 2, 26, 23, 15)\n",
        "wednesday9_end = dt(2020, 2, 26, 23, 45)\n",
        "wednesday10_start = dt(2020, 3, 4, 23, 15)\n",
        "wednesday10_end = dt(2020, 3, 4, 23, 45)\n",
        "wednesday11_start = dt(2020, 3, 11, 23, 15)\n",
        "wednesday11_end = dt(2020, 3, 11, 23, 45)\n",
        "\n",
        "Wed4=[]\n",
        "Wed5=[]\n",
        "Wed6=[]\n",
        "Wed7=[]\n",
        "Wed8=[]\n",
        "Wed9=[]\n",
        "Wed10=[]\n",
        "Wed11=[]"
      ],
      "execution_count": 0,
      "outputs": []
    },
    {
      "cell_type": "markdown",
      "metadata": {
        "id": "_gSnGQzog73Q",
        "colab_type": "text"
      },
      "source": [
        "視聴データ取り込み"
      ]
    },
    {
      "cell_type": "code",
      "metadata": {
        "id": "zVibSMxtvb3Z",
        "colab_type": "code",
        "colab": {}
      },
      "source": [
        "with open('/content/drive/My Drive/Colab Notebooks/viewlog_hw_202001to202002.csv') as f:\n",
        "  lines = f.readlines()\n",
        "  header = lines[0]"
      ],
      "execution_count": 0,
      "outputs": []
    },
    {
      "cell_type": "code",
      "metadata": {
        "id": "wc4gP_mmGIsl",
        "colab_type": "code",
        "colab": {
          "base_uri": "https://localhost:8080/",
          "height": 54
        },
        "outputId": "d8a98d4f-d995-4dfd-f033-bf6b69b10674"
      },
      "source": [
        "line = lines[2]\n",
        "items = line.split(\",\")\n",
        "print(items)"
      ],
      "execution_count": 38,
      "outputs": [
        {
          "output_type": "stream",
          "text": [
            "['1', '62bd5c9b-7863-423f-815a-cd352b61bedb', '2020-01-22 23:14:31', '2020-01-22 23:43:30', '0640823', '1', '60.59.77.7', 'PANAIBROWSER', '2020-01-24 16:54:02', '19', '|2020-01-22T23:14:31|2020-01-22T23:43:30|50|0|0||1|2020-01-24T16:54:02|7fb4|19|PANAIBROWSER|62bd5c9b-7863-423f-815a-cd352b61bedb|1|HTB\\n']\n"
          ],
          "name": "stdout"
        }
      ]
    },
    {
      "cell_type": "code",
      "metadata": {
        "id": "FoJEM3fRg_-q",
        "colab_type": "code",
        "colab": {}
      },
      "source": [
        "for line in lines:\n",
        " \n",
        "  row = line.split(\",\")\n",
        "\n",
        "  try:\n",
        "    datetime_in = dt.strptime(row[2], '%Y-%m-%d %H:%M:%S')\n",
        "    datetime_out = dt.strptime(row[3], '%Y-%m-%d %H:%M:%S')\n",
        "  except:\n",
        "    continue\n",
        "  \n",
        "  if datetime_in > datetime_out: #時刻逆転起きてて変なやつを無視\n",
        "    print(datetime_in,datetime_out)  \n",
        "    continue\n",
        "\n",
        "  if row[1]== 'None' or row[1] == \"no id\": \n",
        "    continue\n",
        "\n",
        "\n",
        "  #水曜どうでしょう4話\n",
        "  if datetime_in < wednesday4_end and wednesday4_start < datetime_out:\n",
        "    Wed4.append(row)\n",
        "  \n",
        "  #水曜どうでしょう5話\n",
        "  if datetime_in < wednesday5_end and wednesday5_start < datetime_out:\n",
        "    Wed5.append(row)\n",
        "\n",
        "  #水曜どうでしょう6話\n",
        "  if datetime_in < wednesday6_end and wednesday6_start < datetime_out:\n",
        "    Wed6.append(row)\n",
        "\n",
        "  #水曜どうでしょう7話\n",
        "  if datetime_in < wednesday7_end and wednesday7_start < datetime_out:\n",
        "    Wed7.append(row)\n",
        "\n",
        "  #水曜どうでしょう8話\n",
        "  if datetime_in < wednesday8_end and wednesday4_start < datetime_out:\n",
        "    Wed8.append(row)\n",
        "\n",
        "  #水曜どうでしょう9話\n",
        "  if datetime_in < wednesday9_end and wednesday9_start < datetime_out:\n",
        "    Wed9.append(row)\n",
        "\n",
        "  #水曜どうでしょう10話\n",
        "  if datetime_in < wednesday10_end and wednesday10_start < datetime_out:\n",
        "    Wed10.append(row)\n",
        "\n",
        "  #水曜どうでしょう11話\n",
        "  if datetime_in < wednesday11_end and wednesday11_start < datetime_out:\n",
        "    Wed11.append(row)"
      ],
      "execution_count": 0,
      "outputs": []
    },
    {
      "cell_type": "code",
      "metadata": {
        "id": "iK4RtpekHBzs",
        "colab_type": "code",
        "colab": {}
      },
      "source": [
        "with open('/content/drive/My Drive/Colab Notebooks/viewlog_hw_202002to202003.csv') as f:\n",
        "  lines2 = f.readlines()"
      ],
      "execution_count": 0,
      "outputs": []
    },
    {
      "cell_type": "code",
      "metadata": {
        "id": "I5lztPPCHIRh",
        "colab_type": "code",
        "colab": {}
      },
      "source": [
        "for line in lines2:\n",
        "  \n",
        "  row = line.split(\",\")\n",
        "\n",
        "  try:\n",
        "    datetime_in = dt.strptime(row[2], '%Y-%m-%d %H:%M:%S')\n",
        "    datetime_out = dt.strptime(row[3], '%Y-%m-%d %H:%M:%S')\n",
        "  except:\n",
        "    continue\n",
        "  \n",
        "  if datetime_in > datetime_out: #時刻逆転起きてて変なやつを無視\n",
        "    print(datetime_in,datetime_out)  \n",
        "    continue\n",
        "\n",
        "  if row[1]== 'None' or row[1] == \"no id\": \n",
        "    continue\n",
        "\n",
        "\n",
        "  #水曜どうでしょう4話\n",
        "  if datetime_in < wednesday4_end and wednesday4_start < datetime_out:\n",
        "    Wed4.append(row)\n",
        "  \n",
        "  #水曜どうでしょう5話\n",
        "  if datetime_in < wednesday5_end and wednesday5_start < datetime_out:\n",
        "    Wed5.append(row)\n",
        "\n",
        "  #水曜どうでしょう6話\n",
        "  if datetime_in < wednesday6_end and wednesday6_start < datetime_out:\n",
        "    Wed6.append(row)\n",
        "\n",
        "  #水曜どうでしょう7話\n",
        "  if datetime_in < wednesday7_end and wednesday7_start < datetime_out:\n",
        "    Wed7.append(row)\n",
        "\n",
        "  #水曜どうでしょう8話\n",
        "  if datetime_in < wednesday8_end and wednesday4_start < datetime_out:\n",
        "    Wed8.append(row)\n",
        "\n",
        "  #水曜どうでしょう9話\n",
        "  if datetime_in < wednesday9_end and wednesday9_start < datetime_out:\n",
        "    Wed9.append(row)\n",
        "\n",
        "  #水曜どうでしょう10話\n",
        "  if datetime_in < wednesday10_end and wednesday10_start < datetime_out:\n",
        "    Wed10.append(row)\n",
        "\n",
        "  #水曜どうでしょう11話\n",
        "  if datetime_in < wednesday11_end and wednesday11_start < datetime_out:\n",
        "    Wed11.append(row)"
      ],
      "execution_count": 0,
      "outputs": []
    },
    {
      "cell_type": "code",
      "metadata": {
        "id": "AsL_AA6xluUJ",
        "colab_type": "code",
        "colab": {
          "base_uri": "https://localhost:8080/",
          "height": 158
        },
        "outputId": "2b64fa26-2d3f-499f-90a2-b13a44a6d387"
      },
      "source": [
        "print(len(Wed4))\n",
        "print(len(Wed5))\n",
        "print(len(Wed6))\n",
        "print(len(Wed7))\n",
        "print(len(Wed8))\n",
        "print(len(Wed9))\n",
        "print(len(Wed10))\n",
        "print(len(Wed11))"
      ],
      "execution_count": 42,
      "outputs": [
        {
          "output_type": "stream",
          "text": [
            "19087\n",
            "48612\n",
            "46859\n",
            "40620\n",
            "5985623\n",
            "43756\n",
            "45313\n",
            "43841\n"
          ],
          "name": "stdout"
        }
      ]
    },
    {
      "cell_type": "code",
      "metadata": {
        "id": "sQ4px6p5qVLo",
        "colab_type": "code",
        "colab": {
          "base_uri": "https://localhost:8080/",
          "height": 212
        },
        "outputId": "4f92bf5d-f21f-4041-8602-d43a562b9a4e"
      },
      "source": [
        ""
      ],
      "execution_count": 15,
      "outputs": [
        {
          "output_type": "execute_result",
          "data": {
            "text/plain": [
              "{'': '19088',\n",
              " 'browser': 'QOSMIOBMLENGINE',\n",
              " 'ip_address': '61.44.175.214',\n",
              " 'manufacture_id': '13',\n",
              " 'original_data': '|2020-01-22T23:44:04|2020-01-22T23:44:04|50|0|0||1|2020-01-23T16:56:09|7FB4|13|QOSMIOBMLENGINE|b6725f3f-f62b-443f-af44-c030d63e5126|1|HTB',\n",
              " 'post_code': '0000000',\n",
              " 'status_data': '1',\n",
              " 'time_in_jst': '2020-01-22 23:44:04',\n",
              " 'time_out_jst': '2020-01-22 23:44:04',\n",
              " 'time_send_jst': '2020-01-23 16:56:09',\n",
              " 'unique_id': 'b6725f3f-f62b-443f-af44-c030d63e5126'}"
            ]
          },
          "metadata": {
            "tags": []
          },
          "execution_count": 15
        }
      ]
    },
    {
      "cell_type": "code",
      "metadata": {
        "id": "4AjCVmaBq4o_",
        "colab_type": "code",
        "colab": {}
      },
      "source": [
        ""
      ],
      "execution_count": 0,
      "outputs": []
    }
  ]
}